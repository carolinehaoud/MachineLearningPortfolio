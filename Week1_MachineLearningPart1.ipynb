{
  "cells": [
    {
      "cell_type": "markdown",
      "metadata": {
        "id": "view-in-github",
        "colab_type": "text"
      },
      "source": [
        "<a href=\"https://colab.research.google.com/github/carolinehaoud/MachineLearningPortfolio/blob/main/Week1_MachineLearningPart1.ipynb\" target=\"_parent\"><img src=\"https://colab.research.google.com/assets/colab-badge.svg\" alt=\"Open In Colab\"/></a>"
      ]
    },
    {
      "cell_type": "markdown",
      "id": "8edf816c",
      "metadata": {
        "id": "8edf816c"
      },
      "source": [
        "# **Week 1: Machine Learning Part 1 - Regression**\n",
        "\n"
      ]
    },
    {
      "cell_type": "markdown",
      "id": "6e8558d1",
      "metadata": {
        "id": "6e8558d1"
      },
      "source": [
        "Machine learning (ML) is the study of computer programs which learn from experience rather than being explicitly programmed. ML algorithms can help us make predictions from data, understand complex datasets, and drive decision-making. Today, ML applications can be found everywhere, from self-driving cars like Teslas, to personal voice assistants like Alexa and Siri, to content recommendation systems as in Netflix and Spotify.\n",
        "\n",
        "In this lesson, we will practice solving a common machine learning problem: regression. We will create and train regression models to learn from data and make predictions using a popular ML library called [Scikit-learn](https://scikit-learn.org/stable/).\n",
        "\n",
        "<img src=\"https://www.besanttechnologies.com/wp-content/uploads/2019/12/applications-of-machine-learning.jpg\" alt=\"drawing\" width=\"600\"/>"
      ]
    },
    {
      "cell_type": "markdown",
      "source": [
        "Before starting this notebook, please run the following cell to authenticate with your Google account and have access to the files (in Google Drive) for this lesson."
      ],
      "metadata": {
        "id": "Szw0MFlRV4rM"
      },
      "id": "Szw0MFlRV4rM"
    },
    {
      "cell_type": "code",
      "source": [
        "from google.colab import drive\n",
        "drive.mount('/content/drive')"
      ],
      "metadata": {
        "colab": {
          "base_uri": "https://localhost:8080/"
        },
        "id": "7m-PcRZ0V15F",
        "outputId": "0aae7f73-5e69-4720-9110-5df707fd39f5"
      },
      "id": "7m-PcRZ0V15F",
      "execution_count": 1,
      "outputs": [
        {
          "output_type": "stream",
          "name": "stdout",
          "text": [
            "Mounted at /content/drive\n"
          ]
        }
      ]
    },
    {
      "cell_type": "code",
      "source": [
        "import numpy as np\n",
        "import pandas as pd\n",
        "import matplotlib.pyplot as plt\n",
        "%matplotlib inline\n",
        "\n",
        "from sklearn.linear_model import LinearRegression"
      ],
      "metadata": {
        "id": "s9Vimfw6kgwf"
      },
      "id": "s9Vimfw6kgwf",
      "execution_count": null,
      "outputs": []
    },
    {
      "cell_type": "markdown",
      "id": "d164263f",
      "metadata": {
        "id": "d164263f"
      },
      "source": [
        "## 1. What is regression?"
      ]
    },
    {
      "cell_type": "markdown",
      "id": "8d61e7ac",
      "metadata": {
        "id": "8d61e7ac"
      },
      "source": [
        "Regression is the task of using input variables to predict a continuous-valued output (such as temperature, price, exam score, etc.). In machine learning, the inputs are often called **features** and the output is called the **label**. Some common examples of regression problems are:\n",
        "- Google Maps: using distance and traffic conditions to estimate travel time\n",
        "- NYC Subway: using a train's current location and speed to predict time of arrival\n",
        "- Weather report: using atmospheric conditions to forecast temperature\n",
        "\n",
        "While there are many kinds of models to solve regression problems, the most popular regression model by far is **linear regression**. Linear regression fits a line through your data, using the feature(s) to predict the label. The slope and intercept of this fitted line can then be used to predict the label for new data points which you do not have the label for.\n",
        "\n",
        "In the figure below, we have a single feature x and a label y. The data points shown in blue are (x, y) pairs. The linear regression model, shown in red, fits a line to these data points. With this line, given a new value of x, we can predict the value of y.\n",
        "\n",
        "<img src=\"https://miro.medium.com/max/640/1*LEmBCYAttxS6uI6rEyPLMQ.png\" alt=\"drawing\" width=\"600\"/>"
      ]
    },
    {
      "cell_type": "markdown",
      "id": "8bed8ac5",
      "metadata": {
        "id": "8bed8ac5"
      },
      "source": [
        "## 2. Regression example: predicting climate change in NYC"
      ]
    },
    {
      "cell_type": "markdown",
      "source": [
        "In this example, we will use linear regression to understand and forecast the effects of climate change on our city. We are given a dataset with two variables: year and AverageTemperature. Using this dataset, we will train a linear regression model to predict the AverageTemperature (the label) from the year (the feature). Then, we will see how close our predictions come to the actual values!\n",
        "\n",
        "First, let's load a **training dataset** containing the average yearly temperatures from 1800 to 1949. These will be the datapoints we use to train our model."
      ],
      "metadata": {
        "id": "oHdkBROnaUu1"
      },
      "id": "oHdkBROnaUu1"
    },
    {
      "cell_type": "code",
      "execution_count": null,
      "id": "664f3318",
      "metadata": {
        "colab": {
          "base_uri": "https://localhost:8080/",
          "height": 424
        },
        "id": "664f3318",
        "outputId": "a2986779-a999-4081-c35a-eedad1267ffd"
      },
      "outputs": [
        {
          "output_type": "execute_result",
          "data": {
            "text/plain": [
              "     year  AverageTemperature\n",
              "0    1800            9.577167\n",
              "1    1801            9.999917\n",
              "2    1802           10.285667\n",
              "3    1803           10.071250\n",
              "4    1804            9.685833\n",
              "..    ...                 ...\n",
              "138  1945            9.942833\n",
              "139  1946           10.631083\n",
              "140  1947            9.907000\n",
              "141  1948            9.826000\n",
              "142  1949           11.386167\n",
              "\n",
              "[143 rows x 2 columns]"
            ],
            "text/html": [
              "\n",
              "  <div id=\"df-9ea510fd-f5ca-4bcc-83f6-7a695029abeb\">\n",
              "    <div class=\"colab-df-container\">\n",
              "      <div>\n",
              "<style scoped>\n",
              "    .dataframe tbody tr th:only-of-type {\n",
              "        vertical-align: middle;\n",
              "    }\n",
              "\n",
              "    .dataframe tbody tr th {\n",
              "        vertical-align: top;\n",
              "    }\n",
              "\n",
              "    .dataframe thead th {\n",
              "        text-align: right;\n",
              "    }\n",
              "</style>\n",
              "<table border=\"1\" class=\"dataframe\">\n",
              "  <thead>\n",
              "    <tr style=\"text-align: right;\">\n",
              "      <th></th>\n",
              "      <th>year</th>\n",
              "      <th>AverageTemperature</th>\n",
              "    </tr>\n",
              "  </thead>\n",
              "  <tbody>\n",
              "    <tr>\n",
              "      <th>0</th>\n",
              "      <td>1800</td>\n",
              "      <td>9.577167</td>\n",
              "    </tr>\n",
              "    <tr>\n",
              "      <th>1</th>\n",
              "      <td>1801</td>\n",
              "      <td>9.999917</td>\n",
              "    </tr>\n",
              "    <tr>\n",
              "      <th>2</th>\n",
              "      <td>1802</td>\n",
              "      <td>10.285667</td>\n",
              "    </tr>\n",
              "    <tr>\n",
              "      <th>3</th>\n",
              "      <td>1803</td>\n",
              "      <td>10.071250</td>\n",
              "    </tr>\n",
              "    <tr>\n",
              "      <th>4</th>\n",
              "      <td>1804</td>\n",
              "      <td>9.685833</td>\n",
              "    </tr>\n",
              "    <tr>\n",
              "      <th>...</th>\n",
              "      <td>...</td>\n",
              "      <td>...</td>\n",
              "    </tr>\n",
              "    <tr>\n",
              "      <th>138</th>\n",
              "      <td>1945</td>\n",
              "      <td>9.942833</td>\n",
              "    </tr>\n",
              "    <tr>\n",
              "      <th>139</th>\n",
              "      <td>1946</td>\n",
              "      <td>10.631083</td>\n",
              "    </tr>\n",
              "    <tr>\n",
              "      <th>140</th>\n",
              "      <td>1947</td>\n",
              "      <td>9.907000</td>\n",
              "    </tr>\n",
              "    <tr>\n",
              "      <th>141</th>\n",
              "      <td>1948</td>\n",
              "      <td>9.826000</td>\n",
              "    </tr>\n",
              "    <tr>\n",
              "      <th>142</th>\n",
              "      <td>1949</td>\n",
              "      <td>11.386167</td>\n",
              "    </tr>\n",
              "  </tbody>\n",
              "</table>\n",
              "<p>143 rows × 2 columns</p>\n",
              "</div>\n",
              "      <button class=\"colab-df-convert\" onclick=\"convertToInteractive('df-9ea510fd-f5ca-4bcc-83f6-7a695029abeb')\"\n",
              "              title=\"Convert this dataframe to an interactive table.\"\n",
              "              style=\"display:none;\">\n",
              "        \n",
              "  <svg xmlns=\"http://www.w3.org/2000/svg\" height=\"24px\"viewBox=\"0 0 24 24\"\n",
              "       width=\"24px\">\n",
              "    <path d=\"M0 0h24v24H0V0z\" fill=\"none\"/>\n",
              "    <path d=\"M18.56 5.44l.94 2.06.94-2.06 2.06-.94-2.06-.94-.94-2.06-.94 2.06-2.06.94zm-11 1L8.5 8.5l.94-2.06 2.06-.94-2.06-.94L8.5 2.5l-.94 2.06-2.06.94zm10 10l.94 2.06.94-2.06 2.06-.94-2.06-.94-.94-2.06-.94 2.06-2.06.94z\"/><path d=\"M17.41 7.96l-1.37-1.37c-.4-.4-.92-.59-1.43-.59-.52 0-1.04.2-1.43.59L10.3 9.45l-7.72 7.72c-.78.78-.78 2.05 0 2.83L4 21.41c.39.39.9.59 1.41.59.51 0 1.02-.2 1.41-.59l7.78-7.78 2.81-2.81c.8-.78.8-2.07 0-2.86zM5.41 20L4 18.59l7.72-7.72 1.47 1.35L5.41 20z\"/>\n",
              "  </svg>\n",
              "      </button>\n",
              "      \n",
              "  <style>\n",
              "    .colab-df-container {\n",
              "      display:flex;\n",
              "      flex-wrap:wrap;\n",
              "      gap: 12px;\n",
              "    }\n",
              "\n",
              "    .colab-df-convert {\n",
              "      background-color: #E8F0FE;\n",
              "      border: none;\n",
              "      border-radius: 50%;\n",
              "      cursor: pointer;\n",
              "      display: none;\n",
              "      fill: #1967D2;\n",
              "      height: 32px;\n",
              "      padding: 0 0 0 0;\n",
              "      width: 32px;\n",
              "    }\n",
              "\n",
              "    .colab-df-convert:hover {\n",
              "      background-color: #E2EBFA;\n",
              "      box-shadow: 0px 1px 2px rgba(60, 64, 67, 0.3), 0px 1px 3px 1px rgba(60, 64, 67, 0.15);\n",
              "      fill: #174EA6;\n",
              "    }\n",
              "\n",
              "    [theme=dark] .colab-df-convert {\n",
              "      background-color: #3B4455;\n",
              "      fill: #D2E3FC;\n",
              "    }\n",
              "\n",
              "    [theme=dark] .colab-df-convert:hover {\n",
              "      background-color: #434B5C;\n",
              "      box-shadow: 0px 1px 3px 1px rgba(0, 0, 0, 0.15);\n",
              "      filter: drop-shadow(0px 1px 2px rgba(0, 0, 0, 0.3));\n",
              "      fill: #FFFFFF;\n",
              "    }\n",
              "  </style>\n",
              "\n",
              "      <script>\n",
              "        const buttonEl =\n",
              "          document.querySelector('#df-9ea510fd-f5ca-4bcc-83f6-7a695029abeb button.colab-df-convert');\n",
              "        buttonEl.style.display =\n",
              "          google.colab.kernel.accessAllowed ? 'block' : 'none';\n",
              "\n",
              "        async function convertToInteractive(key) {\n",
              "          const element = document.querySelector('#df-9ea510fd-f5ca-4bcc-83f6-7a695029abeb');\n",
              "          const dataTable =\n",
              "            await google.colab.kernel.invokeFunction('convertToInteractive',\n",
              "                                                     [key], {});\n",
              "          if (!dataTable) return;\n",
              "\n",
              "          const docLinkHtml = 'Like what you see? Visit the ' +\n",
              "            '<a target=\"_blank\" href=https://colab.research.google.com/notebooks/data_table.ipynb>data table notebook</a>'\n",
              "            + ' to learn more about interactive tables.';\n",
              "          element.innerHTML = '';\n",
              "          dataTable['output_type'] = 'display_data';\n",
              "          await google.colab.output.renderOutput(dataTable, element);\n",
              "          const docLink = document.createElement('div');\n",
              "          docLink.innerHTML = docLinkHtml;\n",
              "          element.appendChild(docLink);\n",
              "        }\n",
              "      </script>\n",
              "    </div>\n",
              "  </div>\n",
              "  "
            ]
          },
          "metadata": {},
          "execution_count": 86
        }
      ],
      "source": [
        "nyc_temp_train_df = pd.read_csv('/content/drive/MyDrive/data sci/NYC_yearly_temp_train.csv')\n",
        "nyc_temp_train_df"
      ]
    },
    {
      "cell_type": "markdown",
      "source": [
        "### Exercise: Celsius to Fahrenheit\n",
        "\n",
        "The AverageTemperature column lists temperatures in degrees Celsius. Convert this column to Fahrenheit using the following formula:\n",
        "\n",
        "$F = C \\cdot \\frac{9}{5} + 32$"
      ],
      "metadata": {
        "id": "MmC5mIIxjKwB"
      },
      "id": "MmC5mIIxjKwB"
    },
    {
      "cell_type": "code",
      "source": [
        "### Your code here\n",
        "nyc_temp_train_df['AverageTemperature'] = nyc_temp_train_df['AverageTemperature']*(9/5)+32\n",
        "nyc_temp_train_df\n"
      ],
      "metadata": {
        "id": "a5GVbBz4jKE3",
        "colab": {
          "base_uri": "https://localhost:8080/",
          "height": 424
        },
        "outputId": "aadc35bc-12eb-440a-9746-3778de92e3cb"
      },
      "id": "a5GVbBz4jKE3",
      "execution_count": null,
      "outputs": [
        {
          "output_type": "execute_result",
          "data": {
            "text/plain": [
              "     year  AverageTemperature\n",
              "0    1800            49.23890\n",
              "1    1801            49.99985\n",
              "2    1802            50.51420\n",
              "3    1803            50.12825\n",
              "4    1804            49.43450\n",
              "..    ...                 ...\n",
              "138  1945            49.89710\n",
              "139  1946            51.13595\n",
              "140  1947            49.83260\n",
              "141  1948            49.68680\n",
              "142  1949            52.49510\n",
              "\n",
              "[143 rows x 2 columns]"
            ],
            "text/html": [
              "\n",
              "  <div id=\"df-b5a88b1b-4269-4a7c-8677-db5245b0a36f\">\n",
              "    <div class=\"colab-df-container\">\n",
              "      <div>\n",
              "<style scoped>\n",
              "    .dataframe tbody tr th:only-of-type {\n",
              "        vertical-align: middle;\n",
              "    }\n",
              "\n",
              "    .dataframe tbody tr th {\n",
              "        vertical-align: top;\n",
              "    }\n",
              "\n",
              "    .dataframe thead th {\n",
              "        text-align: right;\n",
              "    }\n",
              "</style>\n",
              "<table border=\"1\" class=\"dataframe\">\n",
              "  <thead>\n",
              "    <tr style=\"text-align: right;\">\n",
              "      <th></th>\n",
              "      <th>year</th>\n",
              "      <th>AverageTemperature</th>\n",
              "    </tr>\n",
              "  </thead>\n",
              "  <tbody>\n",
              "    <tr>\n",
              "      <th>0</th>\n",
              "      <td>1800</td>\n",
              "      <td>49.23890</td>\n",
              "    </tr>\n",
              "    <tr>\n",
              "      <th>1</th>\n",
              "      <td>1801</td>\n",
              "      <td>49.99985</td>\n",
              "    </tr>\n",
              "    <tr>\n",
              "      <th>2</th>\n",
              "      <td>1802</td>\n",
              "      <td>50.51420</td>\n",
              "    </tr>\n",
              "    <tr>\n",
              "      <th>3</th>\n",
              "      <td>1803</td>\n",
              "      <td>50.12825</td>\n",
              "    </tr>\n",
              "    <tr>\n",
              "      <th>4</th>\n",
              "      <td>1804</td>\n",
              "      <td>49.43450</td>\n",
              "    </tr>\n",
              "    <tr>\n",
              "      <th>...</th>\n",
              "      <td>...</td>\n",
              "      <td>...</td>\n",
              "    </tr>\n",
              "    <tr>\n",
              "      <th>138</th>\n",
              "      <td>1945</td>\n",
              "      <td>49.89710</td>\n",
              "    </tr>\n",
              "    <tr>\n",
              "      <th>139</th>\n",
              "      <td>1946</td>\n",
              "      <td>51.13595</td>\n",
              "    </tr>\n",
              "    <tr>\n",
              "      <th>140</th>\n",
              "      <td>1947</td>\n",
              "      <td>49.83260</td>\n",
              "    </tr>\n",
              "    <tr>\n",
              "      <th>141</th>\n",
              "      <td>1948</td>\n",
              "      <td>49.68680</td>\n",
              "    </tr>\n",
              "    <tr>\n",
              "      <th>142</th>\n",
              "      <td>1949</td>\n",
              "      <td>52.49510</td>\n",
              "    </tr>\n",
              "  </tbody>\n",
              "</table>\n",
              "<p>143 rows × 2 columns</p>\n",
              "</div>\n",
              "      <button class=\"colab-df-convert\" onclick=\"convertToInteractive('df-b5a88b1b-4269-4a7c-8677-db5245b0a36f')\"\n",
              "              title=\"Convert this dataframe to an interactive table.\"\n",
              "              style=\"display:none;\">\n",
              "        \n",
              "  <svg xmlns=\"http://www.w3.org/2000/svg\" height=\"24px\"viewBox=\"0 0 24 24\"\n",
              "       width=\"24px\">\n",
              "    <path d=\"M0 0h24v24H0V0z\" fill=\"none\"/>\n",
              "    <path d=\"M18.56 5.44l.94 2.06.94-2.06 2.06-.94-2.06-.94-.94-2.06-.94 2.06-2.06.94zm-11 1L8.5 8.5l.94-2.06 2.06-.94-2.06-.94L8.5 2.5l-.94 2.06-2.06.94zm10 10l.94 2.06.94-2.06 2.06-.94-2.06-.94-.94-2.06-.94 2.06-2.06.94z\"/><path d=\"M17.41 7.96l-1.37-1.37c-.4-.4-.92-.59-1.43-.59-.52 0-1.04.2-1.43.59L10.3 9.45l-7.72 7.72c-.78.78-.78 2.05 0 2.83L4 21.41c.39.39.9.59 1.41.59.51 0 1.02-.2 1.41-.59l7.78-7.78 2.81-2.81c.8-.78.8-2.07 0-2.86zM5.41 20L4 18.59l7.72-7.72 1.47 1.35L5.41 20z\"/>\n",
              "  </svg>\n",
              "      </button>\n",
              "      \n",
              "  <style>\n",
              "    .colab-df-container {\n",
              "      display:flex;\n",
              "      flex-wrap:wrap;\n",
              "      gap: 12px;\n",
              "    }\n",
              "\n",
              "    .colab-df-convert {\n",
              "      background-color: #E8F0FE;\n",
              "      border: none;\n",
              "      border-radius: 50%;\n",
              "      cursor: pointer;\n",
              "      display: none;\n",
              "      fill: #1967D2;\n",
              "      height: 32px;\n",
              "      padding: 0 0 0 0;\n",
              "      width: 32px;\n",
              "    }\n",
              "\n",
              "    .colab-df-convert:hover {\n",
              "      background-color: #E2EBFA;\n",
              "      box-shadow: 0px 1px 2px rgba(60, 64, 67, 0.3), 0px 1px 3px 1px rgba(60, 64, 67, 0.15);\n",
              "      fill: #174EA6;\n",
              "    }\n",
              "\n",
              "    [theme=dark] .colab-df-convert {\n",
              "      background-color: #3B4455;\n",
              "      fill: #D2E3FC;\n",
              "    }\n",
              "\n",
              "    [theme=dark] .colab-df-convert:hover {\n",
              "      background-color: #434B5C;\n",
              "      box-shadow: 0px 1px 3px 1px rgba(0, 0, 0, 0.15);\n",
              "      filter: drop-shadow(0px 1px 2px rgba(0, 0, 0, 0.3));\n",
              "      fill: #FFFFFF;\n",
              "    }\n",
              "  </style>\n",
              "\n",
              "      <script>\n",
              "        const buttonEl =\n",
              "          document.querySelector('#df-b5a88b1b-4269-4a7c-8677-db5245b0a36f button.colab-df-convert');\n",
              "        buttonEl.style.display =\n",
              "          google.colab.kernel.accessAllowed ? 'block' : 'none';\n",
              "\n",
              "        async function convertToInteractive(key) {\n",
              "          const element = document.querySelector('#df-b5a88b1b-4269-4a7c-8677-db5245b0a36f');\n",
              "          const dataTable =\n",
              "            await google.colab.kernel.invokeFunction('convertToInteractive',\n",
              "                                                     [key], {});\n",
              "          if (!dataTable) return;\n",
              "\n",
              "          const docLinkHtml = 'Like what you see? Visit the ' +\n",
              "            '<a target=\"_blank\" href=https://colab.research.google.com/notebooks/data_table.ipynb>data table notebook</a>'\n",
              "            + ' to learn more about interactive tables.';\n",
              "          element.innerHTML = '';\n",
              "          dataTable['output_type'] = 'display_data';\n",
              "          await google.colab.output.renderOutput(dataTable, element);\n",
              "          const docLink = document.createElement('div');\n",
              "          docLink.innerHTML = docLinkHtml;\n",
              "          element.appendChild(docLink);\n",
              "        }\n",
              "      </script>\n",
              "    </div>\n",
              "  </div>\n",
              "  "
            ]
          },
          "metadata": {},
          "execution_count": 87
        }
      ]
    },
    {
      "cell_type": "markdown",
      "source": [
        "### Exercise: Plot average temperatures over the years\n",
        "\n",
        "Before training an ML model, it's always a good idea to explore and visualize the data you are working with. Use a scatter plot (`plt.scatter()` in matplotlib) to visualize the average temperatures over the years in NYC."
      ],
      "metadata": {
        "id": "GCFihzRJd0MM"
      },
      "id": "GCFihzRJd0MM"
    },
    {
      "cell_type": "code",
      "source": [
        "### Your code here\n",
        "plt.scatter(nyc_temp_train_df['year'], nyc_temp_train_df['AverageTemperature'])\n",
        "plt.xlabel('Year', fontsize=12)\n",
        "plt.ylabel('Temperature (F)', fontsize=12)\n"
      ],
      "metadata": {
        "id": "b3uOEb2Xkbjc",
        "colab": {
          "base_uri": "https://localhost:8080/",
          "height": 217
        },
        "outputId": "b12e6030-db59-425d-ca32-37ee07fe2371"
      },
      "id": "b3uOEb2Xkbjc",
      "execution_count": null,
      "outputs": [
        {
          "output_type": "error",
          "ename": "NameError",
          "evalue": "ignored",
          "traceback": [
            "\u001b[0;31m---------------------------------------------------------------------------\u001b[0m",
            "\u001b[0;31mNameError\u001b[0m                                 Traceback (most recent call last)",
            "\u001b[0;32m<ipython-input-1-bfd02720413e>\u001b[0m in \u001b[0;36m<module>\u001b[0;34m\u001b[0m\n\u001b[1;32m      1\u001b[0m \u001b[0;31m### Your code here\u001b[0m\u001b[0;34m\u001b[0m\u001b[0;34m\u001b[0m\u001b[0;34m\u001b[0m\u001b[0m\n\u001b[0;32m----> 2\u001b[0;31m \u001b[0mplt\u001b[0m\u001b[0;34m.\u001b[0m\u001b[0mscatter\u001b[0m\u001b[0;34m(\u001b[0m\u001b[0mnyc_temp_train_df\u001b[0m\u001b[0;34m[\u001b[0m\u001b[0;34m'year'\u001b[0m\u001b[0;34m]\u001b[0m\u001b[0;34m,\u001b[0m \u001b[0mnyc_temp_train_df\u001b[0m\u001b[0;34m[\u001b[0m\u001b[0;34m'AverageTemperature'\u001b[0m\u001b[0;34m]\u001b[0m\u001b[0;34m)\u001b[0m\u001b[0;34m\u001b[0m\u001b[0;34m\u001b[0m\u001b[0m\n\u001b[0m\u001b[1;32m      3\u001b[0m \u001b[0mplt\u001b[0m\u001b[0;34m.\u001b[0m\u001b[0mxlabel\u001b[0m\u001b[0;34m(\u001b[0m\u001b[0;34m'Year'\u001b[0m\u001b[0;34m,\u001b[0m \u001b[0mfontsize\u001b[0m\u001b[0;34m=\u001b[0m\u001b[0;36m12\u001b[0m\u001b[0;34m)\u001b[0m\u001b[0;34m\u001b[0m\u001b[0;34m\u001b[0m\u001b[0m\n\u001b[1;32m      4\u001b[0m \u001b[0mplt\u001b[0m\u001b[0;34m.\u001b[0m\u001b[0mylabel\u001b[0m\u001b[0;34m(\u001b[0m\u001b[0;34m'Temperature (F)'\u001b[0m\u001b[0;34m,\u001b[0m \u001b[0mfontsize\u001b[0m\u001b[0;34m=\u001b[0m\u001b[0;36m12\u001b[0m\u001b[0;34m)\u001b[0m\u001b[0;34m\u001b[0m\u001b[0;34m\u001b[0m\u001b[0m\n",
            "\u001b[0;31mNameError\u001b[0m: name 'plt' is not defined"
          ]
        }
      ]
    },
    {
      "cell_type": "markdown",
      "source": [
        "We can see from the plot that there is a clear upward trend in the yearly average temperatures. So, let's train a linear regression model to fit this data using the *LinearRegression* class in scikit-learn."
      ],
      "metadata": {
        "id": "BG3el7tQefID"
      },
      "id": "BG3el7tQefID"
    },
    {
      "cell_type": "code",
      "execution_count": null,
      "id": "a0e5fed0",
      "metadata": {
        "colab": {
          "base_uri": "https://localhost:8080/"
        },
        "id": "a0e5fed0",
        "outputId": "4fb1217e-6b6a-4222-e2fb-187b15d46869"
      },
      "outputs": [
        {
          "output_type": "execute_result",
          "data": {
            "text/plain": [
              "LinearRegression()"
            ]
          },
          "metadata": {},
          "execution_count": 89
        }
      ],
      "source": [
        "model = LinearRegression()                            # Initialize LinearRegression model\n",
        "model.fit(X=nyc_temp_train_df[['year']],              # Train model on the data\n",
        "          y=nyc_temp_train_df['AverageTemperature'])"
      ]
    },
    {
      "cell_type": "markdown",
      "source": [
        "Now, we can use this trained model to make predictions of the average temperature for each year in our training set (1800 - 1949)."
      ],
      "metadata": {
        "id": "BHA4F-BdfVkX"
      },
      "id": "BHA4F-BdfVkX"
    },
    {
      "cell_type": "code",
      "execution_count": null,
      "id": "7813e668",
      "metadata": {
        "scrolled": false,
        "colab": {
          "base_uri": "https://localhost:8080/"
        },
        "id": "7813e668",
        "outputId": "659892dc-c299-442a-8113-c2dc09dc9823"
      },
      "outputs": [
        {
          "output_type": "execute_result",
          "data": {
            "text/plain": [
              "array([48.3271371 , 48.33576592, 48.34439475, 48.35302357, 48.36165239,\n",
              "       48.37028122, 48.37891004, 48.38753886, 48.39616769, 48.40479651,\n",
              "       48.41342533, 48.42205416, 48.4393118 , 48.44794062, 48.45656945,\n",
              "       48.48245592, 48.49108474, 48.49971356, 48.50834239, 48.51697121,\n",
              "       48.52560003, 48.53422886, 48.54285768, 48.5514865 , 48.56011533,\n",
              "       48.56874415, 48.57737297, 48.5860018 , 48.59463062, 48.60325944,\n",
              "       48.61188826, 48.62051709, 48.62914591, 48.64640356, 48.65503238,\n",
              "       48.6636612 , 48.67229003, 48.68091885, 48.68954767, 48.6981765 ,\n",
              "       48.70680532, 48.71543414, 48.72406297, 48.73269179, 48.74132061,\n",
              "       48.74994943, 48.75857826, 48.76720708, 48.7758359 , 48.78446473,\n",
              "       48.79309355, 48.80172237, 48.8103512 , 48.81898002, 48.82760884,\n",
              "       48.83623767, 48.84486649, 48.85349531, 48.86212414, 48.87075296,\n",
              "       48.87938178, 48.8880106 , 48.89663943, 48.90526825, 48.9225259 ,\n",
              "       48.93115472, 48.93978354, 48.94841237, 48.95704119, 48.96567001,\n",
              "       48.98292766, 48.99155648, 49.00018531, 49.00881413, 49.01744295,\n",
              "       49.02607178, 49.0347006 , 49.04332942, 49.05195824, 49.06058707,\n",
              "       49.06921589, 49.07784471, 49.08647354, 49.09510236, 49.10373118,\n",
              "       49.11236001, 49.12098883, 49.12961765, 49.13824648, 49.1468753 ,\n",
              "       49.15550412, 49.16413295, 49.17276177, 49.18139059, 49.19001941,\n",
              "       49.19864824, 49.20727706, 49.21590588, 49.23316353, 49.24179235,\n",
              "       49.25042118, 49.25905   , 49.26767882, 49.27630765, 49.28493647,\n",
              "       49.29356529, 49.30219412, 49.31082294, 49.31945176, 49.32808058,\n",
              "       49.33670941, 49.34533823, 49.35396705, 49.36259588, 49.3712247 ,\n",
              "       49.37985352, 49.38848235, 49.39711117, 49.40573999, 49.41436882,\n",
              "       49.42299764, 49.43162646, 49.44025529, 49.44888411, 49.45751293,\n",
              "       49.46614176, 49.47477058, 49.4833994 , 49.49202822, 49.50065705,\n",
              "       49.50928587, 49.51791469, 49.52654352, 49.53517234, 49.54380116,\n",
              "       49.55242999, 49.56105881, 49.56968763, 49.57831646, 49.58694528,\n",
              "       49.5955741 , 49.60420293, 49.61283175])"
            ]
          },
          "metadata": {},
          "execution_count": 90
        }
      ],
      "source": [
        "temp_predictions_train = model.predict(X=nyc_temp_train_df[['year']])\n",
        "temp_predictions_train"
      ]
    },
    {
      "cell_type": "markdown",
      "source": [
        "We can plot these predictions (in red) along with the actual temperature values (in blue) to see how close our model's predictions are to the actual values. Note that the predictions are in a straight line since this is a linear regression model.\n",
        "\n",
        "How well do you think our model's predictions compare to the actual temperatures? Did it do a good job?"
      ],
      "metadata": {
        "id": "pya58Tkmfroz"
      },
      "id": "pya58Tkmfroz"
    },
    {
      "cell_type": "code",
      "execution_count": null,
      "id": "bcf20742",
      "metadata": {
        "colab": {
          "base_uri": "https://localhost:8080/",
          "height": 371
        },
        "id": "bcf20742",
        "outputId": "67e92e08-6fb4-40ba-cfce-ef3010861486"
      },
      "outputs": [
        {
          "output_type": "execute_result",
          "data": {
            "text/plain": [
              "<matplotlib.legend.Legend at 0x7f77a236a110>"
            ]
          },
          "metadata": {},
          "execution_count": 91
        },
        {
          "output_type": "display_data",
          "data": {
            "text/plain": [
              "<Figure size 576x360 with 1 Axes>"
            ],
            "image/png": "[encoded data removed]"
          },
          "metadata": {
            "needs_background": "light"
          }
        }
      ],
      "source": [
        "plt.figure(figsize=(8, 5))\n",
        "plt.scatter(nyc_temp_train_df['year'], nyc_temp_train_df['AverageTemperature'], label='Actual')\n",
        "plt.plot(nyc_temp_train_df['year'], temp_predictions_train, label='Predicted',\n",
        "         color='tab:red', linewidth=2)\n",
        "plt.xlabel('Year', fontsize=12)\n",
        "plt.ylabel('Temperature (F)', fontsize=12)\n",
        "plt.title('NYC yearly average temperature', fontsize=14)\n",
        "plt.legend(fontsize=12)"
      ]
    },
    {
      "cell_type": "markdown",
      "source": [
        "While it's nice to make predictions on our training dataset, the real value of machine learning comes from being able to make predictions on new, unseen examples. So, let's use this trained model to make predictions on a **test dataset**: the years from 1950 to 2030. These are years which our model has not seen during training, so we would like to see how well it can generalize to these new examples.\n",
        "\n",
        "First, create a 81x1 dimensional numpy array for the 81 years between 1950 and 2030. This will be the feature for our test dataset."
      ],
      "metadata": {
        "id": "Y3B92HxlgT5Y"
      },
      "id": "Y3B92HxlgT5Y"
    },
    {
      "cell_type": "code",
      "source": [
        "years_test = np.array(list(range(1950, 2031))).reshape(81, 1)\n",
        "years_test"
      ],
      "metadata": {
        "id": "PMt9YMcShS2w",
        "colab": {
          "base_uri": "https://localhost:8080/"
        },
        "outputId": "47623a81-b6db-42d2-dd2a-d83a0265b6a2"
      },
      "id": "PMt9YMcShS2w",
      "execution_count": null,
      "outputs": [
        {
          "output_type": "execute_result",
          "data": {
            "text/plain": [
              "array([[1950],\n",
              "       [1951],\n",
              "       [1952],\n",
              "       [1953],\n",
              "       [1954],\n",
              "       [1955],\n",
              "       [1956],\n",
              "       [1957],\n",
              "       [1958],\n",
              "       [1959],\n",
              "       [1960],\n",
              "       [1961],\n",
              "       [1962],\n",
              "       [1963],\n",
              "       [1964],\n",
              "       [1965],\n",
              "       [1966],\n",
              "       [1967],\n",
              "       [1968],\n",
              "       [1969],\n",
              "       [1970],\n",
              "       [1971],\n",
              "       [1972],\n",
              "       [1973],\n",
              "       [1974],\n",
              "       [1975],\n",
              "       [1976],\n",
              "       [1977],\n",
              "       [1978],\n",
              "       [1979],\n",
              "       [1980],\n",
              "       [1981],\n",
              "       [1982],\n",
              "       [1983],\n",
              "       [1984],\n",
              "       [1985],\n",
              "       [1986],\n",
              "       [1987],\n",
              "       [1988],\n",
              "       [1989],\n",
              "       [1990],\n",
              "       [1991],\n",
              "       [1992],\n",
              "       [1993],\n",
              "       [1994],\n",
              "       [1995],\n",
              "       [1996],\n",
              "       [1997],\n",
              "       [1998],\n",
              "       [1999],\n",
              "       [2000],\n",
              "       [2001],\n",
              "       [2002],\n",
              "       [2003],\n",
              "       [2004],\n",
              "       [2005],\n",
              "       [2006],\n",
              "       [2007],\n",
              "       [2008],\n",
              "       [2009],\n",
              "       [2010],\n",
              "       [2011],\n",
              "       [2012],\n",
              "       [2013],\n",
              "       [2014],\n",
              "       [2015],\n",
              "       [2016],\n",
              "       [2017],\n",
              "       [2018],\n",
              "       [2019],\n",
              "       [2020],\n",
              "       [2021],\n",
              "       [2022],\n",
              "       [2023],\n",
              "       [2024],\n",
              "       [2025],\n",
              "       [2026],\n",
              "       [2027],\n",
              "       [2028],\n",
              "       [2029],\n",
              "       [2030]])"
            ]
          },
          "metadata": {},
          "execution_count": 92
        }
      ]
    },
    {
      "cell_type": "markdown",
      "source": [
        "Now, use the trained model to make temperature predictions on these new years in our test dataset."
      ],
      "metadata": {
        "id": "vmyJ4BAkiemS"
      },
      "id": "vmyJ4BAkiemS"
    },
    {
      "cell_type": "code",
      "execution_count": null,
      "id": "d5f7615f",
      "metadata": {
        "colab": {
          "base_uri": "https://localhost:8080/"
        },
        "id": "d5f7615f",
        "outputId": "9b6f2fc2-4ac7-4374-d29a-9c2257dbd0f3"
      },
      "outputs": [
        {
          "output_type": "stream",
          "name": "stderr",
          "text": [
            "/usr/local/lib/python3.7/dist-packages/sklearn/base.py:451: UserWarning: X does not have valid feature names, but LinearRegression was fitted with feature names\n",
            "  \"X does not have valid feature names, but\"\n"
          ]
        },
        {
          "output_type": "execute_result",
          "data": {
            "text/plain": [
              "array([49.62146057, 49.63008939, 49.63871822, 49.64734704, 49.65597586,\n",
              "       49.66460469, 49.67323351, 49.68186233, 49.69049116, 49.69911998,\n",
              "       49.7077488 , 49.71637763, 49.72500645, 49.73363527, 49.7422641 ,\n",
              "       49.75089292, 49.75952174, 49.76815056, 49.77677939, 49.78540821,\n",
              "       49.79403703, 49.80266586, 49.81129468, 49.8199235 , 49.82855233,\n",
              "       49.83718115, 49.84580997, 49.8544388 , 49.86306762, 49.87169644,\n",
              "       49.88032527, 49.88895409, 49.89758291, 49.90621174, 49.91484056,\n",
              "       49.92346938, 49.9320982 , 49.94072703, 49.94935585, 49.95798467,\n",
              "       49.9666135 , 49.97524232, 49.98387114, 49.99249997, 50.00112879,\n",
              "       50.00975761, 50.01838644, 50.02701526, 50.03564408, 50.04427291,\n",
              "       50.05290173, 50.06153055, 50.07015937, 50.0787882 , 50.08741702,\n",
              "       50.09604584, 50.10467467, 50.11330349, 50.12193231, 50.13056114,\n",
              "       50.13918996, 50.14781878, 50.15644761, 50.16507643, 50.17370525,\n",
              "       50.18233408, 50.1909629 , 50.19959172, 50.20822054, 50.21684937,\n",
              "       50.22547819, 50.23410701, 50.24273584, 50.25136466, 50.25999348,\n",
              "       50.26862231, 50.27725113, 50.28587995, 50.29450878, 50.3031376 ,\n",
              "       50.31176642])"
            ]
          },
          "metadata": {},
          "execution_count": 93
        }
      ],
      "source": [
        "temp_predictions_test = model.predict(years_test)\n",
        "temp_predictions_test"
      ]
    },
    {
      "cell_type": "markdown",
      "source": [
        "Let's plot the predictions for these new test dataset years, along with the training dataset predictions and actual temperatures from before. This lets us forecast yearly temperatures in NYC into the future, as far as 2030!"
      ],
      "metadata": {
        "id": "vCZKiJ4oixvf"
      },
      "id": "vCZKiJ4oixvf"
    },
    {
      "cell_type": "code",
      "execution_count": null,
      "id": "00abeb08",
      "metadata": {
        "colab": {
          "base_uri": "https://localhost:8080/",
          "height": 371
        },
        "id": "00abeb08",
        "outputId": "595d8c1f-4529-412b-e222-a01a55f0abe5"
      },
      "outputs": [
        {
          "output_type": "execute_result",
          "data": {
            "text/plain": [
              "<matplotlib.legend.Legend at 0x7f77a23e6210>"
            ]
          },
          "metadata": {},
          "execution_count": 94
        },
        {
          "output_type": "display_data",
          "data": {
            "text/plain": [
              "<Figure size 576x360 with 1 Axes>"
            ],
            "image/png": "[encoded data removed]"
          },
          "metadata": {
            "needs_background": "light"
          }
        }
      ],
      "source": [
        "plt.figure(figsize=(8, 5))\n",
        "plt.scatter(nyc_temp_train_df['year'], nyc_temp_train_df['AverageTemperature'], label='Actual')\n",
        "plt.plot(nyc_temp_train_df['year'], temp_predictions_train, label='Predicted',\n",
        "         color='tab:red', linewidth=2)\n",
        "plt.plot(years_test, temp_predictions_test, label='Predicted (test)',\n",
        "        linestyle='--', color='tab:red', linewidth=2)\n",
        "plt.xlabel('Year', fontsize=12)\n",
        "plt.ylabel('Temperature (C)', fontsize=12)\n",
        "plt.title('NYC yearly average temperature', fontsize=14)\n",
        "plt.legend(fontsize=12)"
      ]
    },
    {
      "cell_type": "markdown",
      "source": [
        "How do we know if our test set predictions are any good? Luckily, we also have a dataset with the actual AverageTemperature labels for the years 1950 - 2013. Let's load in this dataset."
      ],
      "metadata": {
        "id": "vLLVSxUqjeTY"
      },
      "id": "vLLVSxUqjeTY"
    },
    {
      "cell_type": "code",
      "execution_count": null,
      "id": "73401145",
      "metadata": {
        "colab": {
          "base_uri": "https://localhost:8080/",
          "height": 424
        },
        "id": "73401145",
        "outputId": "0454d67f-9bed-4149-8b38-75810d5f0326"
      },
      "outputs": [
        {
          "output_type": "execute_result",
          "data": {
            "text/plain": [
              "    year  AverageTemperature\n",
              "0   1950            49.50365\n",
              "1   1951            50.49380\n",
              "2   1952            50.94065\n",
              "3   1953            52.11410\n",
              "4   1954            50.55560\n",
              "..   ...                 ...\n",
              "59  2009            50.25530\n",
              "60  2010            52.44365\n",
              "61  2011            52.29005\n",
              "62  2012            53.54870\n",
              "63  2013            53.89500\n",
              "\n",
              "[64 rows x 2 columns]"
            ],
            "text/html": [
              "\n",
              "  <div id=\"df-ee97efd5-b456-4475-8130-b6cf481268e4\">\n",
              "    <div class=\"colab-df-container\">\n",
              "      <div>\n",
              "<style scoped>\n",
              "    .dataframe tbody tr th:only-of-type {\n",
              "        vertical-align: middle;\n",
              "    }\n",
              "\n",
              "    .dataframe tbody tr th {\n",
              "        vertical-align: top;\n",
              "    }\n",
              "\n",
              "    .dataframe thead th {\n",
              "        text-align: right;\n",
              "    }\n",
              "</style>\n",
              "<table border=\"1\" class=\"dataframe\">\n",
              "  <thead>\n",
              "    <tr style=\"text-align: right;\">\n",
              "      <th></th>\n",
              "      <th>year</th>\n",
              "      <th>AverageTemperature</th>\n",
              "    </tr>\n",
              "  </thead>\n",
              "  <tbody>\n",
              "    <tr>\n",
              "      <th>0</th>\n",
              "      <td>1950</td>\n",
              "      <td>49.50365</td>\n",
              "    </tr>\n",
              "    <tr>\n",
              "      <th>1</th>\n",
              "      <td>1951</td>\n",
              "      <td>50.49380</td>\n",
              "    </tr>\n",
              "    <tr>\n",
              "      <th>2</th>\n",
              "      <td>1952</td>\n",
              "      <td>50.94065</td>\n",
              "    </tr>\n",
              "    <tr>\n",
              "      <th>3</th>\n",
              "      <td>1953</td>\n",
              "      <td>52.11410</td>\n",
              "    </tr>\n",
              "    <tr>\n",
              "      <th>4</th>\n",
              "      <td>1954</td>\n",
              "      <td>50.55560</td>\n",
              "    </tr>\n",
              "    <tr>\n",
              "      <th>...</th>\n",
              "      <td>...</td>\n",
              "      <td>...</td>\n",
              "    </tr>\n",
              "    <tr>\n",
              "      <th>59</th>\n",
              "      <td>2009</td>\n",
              "      <td>50.25530</td>\n",
              "    </tr>\n",
              "    <tr>\n",
              "      <th>60</th>\n",
              "      <td>2010</td>\n",
              "      <td>52.44365</td>\n",
              "    </tr>\n",
              "    <tr>\n",
              "      <th>61</th>\n",
              "      <td>2011</td>\n",
              "      <td>52.29005</td>\n",
              "    </tr>\n",
              "    <tr>\n",
              "      <th>62</th>\n",
              "      <td>2012</td>\n",
              "      <td>53.54870</td>\n",
              "    </tr>\n",
              "    <tr>\n",
              "      <th>63</th>\n",
              "      <td>2013</td>\n",
              "      <td>53.89500</td>\n",
              "    </tr>\n",
              "  </tbody>\n",
              "</table>\n",
              "<p>64 rows × 2 columns</p>\n",
              "</div>\n",
              "      <button class=\"colab-df-convert\" onclick=\"convertToInteractive('df-ee97efd5-b456-4475-8130-b6cf481268e4')\"\n",
              "              title=\"Convert this dataframe to an interactive table.\"\n",
              "              style=\"display:none;\">\n",
              "        \n",
              "  <svg xmlns=\"http://www.w3.org/2000/svg\" height=\"24px\"viewBox=\"0 0 24 24\"\n",
              "       width=\"24px\">\n",
              "    <path d=\"M0 0h24v24H0V0z\" fill=\"none\"/>\n",
              "    <path d=\"M18.56 5.44l.94 2.06.94-2.06 2.06-.94-2.06-.94-.94-2.06-.94 2.06-2.06.94zm-11 1L8.5 8.5l.94-2.06 2.06-.94-2.06-.94L8.5 2.5l-.94 2.06-2.06.94zm10 10l.94 2.06.94-2.06 2.06-.94-2.06-.94-.94-2.06-.94 2.06-2.06.94z\"/><path d=\"M17.41 7.96l-1.37-1.37c-.4-.4-.92-.59-1.43-.59-.52 0-1.04.2-1.43.59L10.3 9.45l-7.72 7.72c-.78.78-.78 2.05 0 2.83L4 21.41c.39.39.9.59 1.41.59.51 0 1.02-.2 1.41-.59l7.78-7.78 2.81-2.81c.8-.78.8-2.07 0-2.86zM5.41 20L4 18.59l7.72-7.72 1.47 1.35L5.41 20z\"/>\n",
              "  </svg>\n",
              "      </button>\n",
              "      \n",
              "  <style>\n",
              "    .colab-df-container {\n",
              "      display:flex;\n",
              "      flex-wrap:wrap;\n",
              "      gap: 12px;\n",
              "    }\n",
              "\n",
              "    .colab-df-convert {\n",
              "      background-color: #E8F0FE;\n",
              "      border: none;\n",
              "      border-radius: 50%;\n",
              "      cursor: pointer;\n",
              "      display: none;\n",
              "      fill: #1967D2;\n",
              "      height: 32px;\n",
              "      padding: 0 0 0 0;\n",
              "      width: 32px;\n",
              "    }\n",
              "\n",
              "    .colab-df-convert:hover {\n",
              "      background-color: #E2EBFA;\n",
              "      box-shadow: 0px 1px 2px rgba(60, 64, 67, 0.3), 0px 1px 3px 1px rgba(60, 64, 67, 0.15);\n",
              "      fill: #174EA6;\n",
              "    }\n",
              "\n",
              "    [theme=dark] .colab-df-convert {\n",
              "      background-color: #3B4455;\n",
              "      fill: #D2E3FC;\n",
              "    }\n",
              "\n",
              "    [theme=dark] .colab-df-convert:hover {\n",
              "      background-color: #434B5C;\n",
              "      box-shadow: 0px 1px 3px 1px rgba(0, 0, 0, 0.15);\n",
              "      filter: drop-shadow(0px 1px 2px rgba(0, 0, 0, 0.3));\n",
              "      fill: #FFFFFF;\n",
              "    }\n",
              "  </style>\n",
              "\n",
              "      <script>\n",
              "        const buttonEl =\n",
              "          document.querySelector('#df-ee97efd5-b456-4475-8130-b6cf481268e4 button.colab-df-convert');\n",
              "        buttonEl.style.display =\n",
              "          google.colab.kernel.accessAllowed ? 'block' : 'none';\n",
              "\n",
              "        async function convertToInteractive(key) {\n",
              "          const element = document.querySelector('#df-ee97efd5-b456-4475-8130-b6cf481268e4');\n",
              "          const dataTable =\n",
              "            await google.colab.kernel.invokeFunction('convertToInteractive',\n",
              "                                                     [key], {});\n",
              "          if (!dataTable) return;\n",
              "\n",
              "          const docLinkHtml = 'Like what you see? Visit the ' +\n",
              "            '<a target=\"_blank\" href=https://colab.research.google.com/notebooks/data_table.ipynb>data table notebook</a>'\n",
              "            + ' to learn more about interactive tables.';\n",
              "          element.innerHTML = '';\n",
              "          dataTable['output_type'] = 'display_data';\n",
              "          await google.colab.output.renderOutput(dataTable, element);\n",
              "          const docLink = document.createElement('div');\n",
              "          docLink.innerHTML = docLinkHtml;\n",
              "          element.appendChild(docLink);\n",
              "        }\n",
              "      </script>\n",
              "    </div>\n",
              "  </div>\n",
              "  "
            ]
          },
          "metadata": {},
          "execution_count": 95
        }
      ],
      "source": [
        "nyc_temp_test_df = pd.read_csv('/content/drive/MyDrive/data sci/Copy of NYC_yearly_temp_test.csv')\n",
        "# Remembering to convert the test set temperatures into Fahrenheit!\n",
        "nyc_temp_test_df['AverageTemperature'] = nyc_temp_test_df['AverageTemperature'] * (9/5) + 32\n",
        "nyc_temp_test_df"
      ]
    },
    {
      "cell_type": "markdown",
      "source": [
        "Now, let's add in the test dataset actual labels to our plot. How well do you think our test set predictions (red dotted line) compare against the actual test set labels (light blue points)?"
      ],
      "metadata": {
        "id": "GkGM7T3okPyV"
      },
      "id": "GkGM7T3okPyV"
    },
    {
      "cell_type": "code",
      "execution_count": null,
      "id": "a4a49840",
      "metadata": {
        "colab": {
          "base_uri": "https://localhost:8080/",
          "height": 371
        },
        "id": "a4a49840",
        "outputId": "2c74fcf8-b326-4bde-cfae-835db61bbb8b"
      },
      "outputs": [
        {
          "output_type": "execute_result",
          "data": {
            "text/plain": [
              "<matplotlib.legend.Legend at 0x7f77a249c310>"
            ]
          },
          "metadata": {},
          "execution_count": 96
        },
        {
          "output_type": "display_data",
          "data": {
            "text/plain": [
              "<Figure size 576x360 with 1 Axes>"
            ],
            "image/png": "[encoded data removed]"
          },
          "metadata": {
            "needs_background": "light"
          }
        }
      ],
      "source": [
        "plt.figure(figsize=(8, 5))\n",
        "plt.scatter(nyc_temp_train_df['year'], nyc_temp_train_df['AverageTemperature'], label='Actual')\n",
        "plt.plot(nyc_temp_train_df['year'], temp_predictions_train, label='Predicted',\n",
        "         color='tab:red', linewidth=2)\n",
        "plt.scatter(nyc_temp_test_df['year'], nyc_temp_test_df['AverageTemperature'], label='Actual (test)',\n",
        "            color='lightblue')\n",
        "plt.plot(years_test, temp_predictions_test, label='Predicted (test)',\n",
        "        linestyle='--', color='tab:red', linewidth=2)\n",
        "plt.xlabel('Year', fontsize=12)\n",
        "plt.ylabel('Temperature (C)', fontsize=12)\n",
        "plt.title('NYC yearly average temperature', fontsize=14)\n",
        "plt.legend(fontsize=12)"
      ]
    },
    {
      "cell_type": "markdown",
      "id": "b1e88d6d",
      "metadata": {
        "id": "b1e88d6d"
      },
      "source": [
        "## 3. Your turn: predicting bicycle traffic on Brooklyn Bridge!\n",
        "\n",
        "<img src=\"https://media.tacdn.com/media/attractions-splice-spp-674x446/09/de/33/d1.jpg\" alt=\"drawing\" width=\"600\"/>\n",
        "\n",
        "Now, you will train a linear regression model to predict bicycle traffic from temperature. You are given a dataset containing the daily temperature and number of bicycles crossing Brooklyn Bridge. Let's load in this training data."
      ]
    },
    {
      "cell_type": "code",
      "source": [
        "bike_train_df = pd.read_csv('/content/drive/MyDrive/data sci/Copy of brooklyn_bridge_bicycles_train.csv')\n",
        "bike_train_df"
      ],
      "metadata": {
        "colab": {
          "base_uri": "https://localhost:8080/",
          "height": 708
        },
        "id": "HitJ7SNCq-pu",
        "outputId": "b42eebb1-48f7-4441-9068-afe0e9d07a5b"
      },
      "id": "HitJ7SNCq-pu",
      "execution_count": null,
      "outputs": [
        {
          "output_type": "execute_result",
          "data": {
            "text/plain": [
              "                   Date  Temperature  Number of bicycles\n",
              "0   2016-04-01 00:00:00         78.1              1704.0\n",
              "1   2016-04-02 00:00:00         55.0               827.0\n",
              "2   2016-04-04 00:00:00         44.1               521.0\n",
              "3   2016-04-05 00:00:00         42.1              1416.0\n",
              "4   2016-04-06 00:00:00         45.0              1885.0\n",
              "5   2016-04-07 00:00:00         57.0              1276.0\n",
              "6   2016-04-08 00:00:00         46.9              1982.0\n",
              "7   2016-04-09 00:00:00         43.0               504.0\n",
              "8   2016-04-10 00:00:00         48.9              1447.0\n",
              "9   2016-04-13 00:00:00         57.0              2840.0\n",
              "10  2016-04-15 00:00:00         64.0              2770.0\n",
              "11  2016-04-16 00:00:00         66.0              2384.0\n",
              "12  2016-04-17 00:00:00         73.9              3147.0\n",
              "13  2016-04-19 00:00:00         71.1              3501.0\n",
              "14  2016-04-20 00:00:00         68.0              3450.0\n",
              "15  2016-04-21 00:00:00         71.1              3436.0\n",
              "16  2016-04-22 00:00:00         78.1              2975.0\n",
              "17  2016-04-23 00:00:00         70.0              2055.0\n",
              "18  2016-04-24 00:00:00         68.0              2798.0\n",
              "19  2016-04-26 00:00:00         60.1              1997.0\n",
              "20  2016-04-30 00:00:00         64.0              3199.0"
            ],
            "text/html": [
              "\n",
              "  <div id=\"df-13f0d594-3788-4639-acc5-bebe4641ce95\">\n",
              "    <div class=\"colab-df-container\">\n",
              "      <div>\n",
              "<style scoped>\n",
              "    .dataframe tbody tr th:only-of-type {\n",
              "        vertical-align: middle;\n",
              "    }\n",
              "\n",
              "    .dataframe tbody tr th {\n",
              "        vertical-align: top;\n",
              "    }\n",
              "\n",
              "    .dataframe thead th {\n",
              "        text-align: right;\n",
              "    }\n",
              "</style>\n",
              "<table border=\"1\" class=\"dataframe\">\n",
              "  <thead>\n",
              "    <tr style=\"text-align: right;\">\n",
              "      <th></th>\n",
              "      <th>Date</th>\n",
              "      <th>Temperature</th>\n",
              "      <th>Number of bicycles</th>\n",
              "    </tr>\n",
              "  </thead>\n",
              "  <tbody>\n",
              "    <tr>\n",
              "      <th>0</th>\n",
              "      <td>2016-04-01 00:00:00</td>\n",
              "      <td>78.1</td>\n",
              "      <td>1704.0</td>\n",
              "    </tr>\n",
              "    <tr>\n",
              "      <th>1</th>\n",
              "      <td>2016-04-02 00:00:00</td>\n",
              "      <td>55.0</td>\n",
              "      <td>827.0</td>\n",
              "    </tr>\n",
              "    <tr>\n",
              "      <th>2</th>\n",
              "      <td>2016-04-04 00:00:00</td>\n",
              "      <td>44.1</td>\n",
              "      <td>521.0</td>\n",
              "    </tr>\n",
              "    <tr>\n",
              "      <th>3</th>\n",
              "      <td>2016-04-05 00:00:00</td>\n",
              "      <td>42.1</td>\n",
              "      <td>1416.0</td>\n",
              "    </tr>\n",
              "    <tr>\n",
              "      <th>4</th>\n",
              "      <td>2016-04-06 00:00:00</td>\n",
              "      <td>45.0</td>\n",
              "      <td>1885.0</td>\n",
              "    </tr>\n",
              "    <tr>\n",
              "      <th>5</th>\n",
              "      <td>2016-04-07 00:00:00</td>\n",
              "      <td>57.0</td>\n",
              "      <td>1276.0</td>\n",
              "    </tr>\n",
              "    <tr>\n",
              "      <th>6</th>\n",
              "      <td>2016-04-08 00:00:00</td>\n",
              "      <td>46.9</td>\n",
              "      <td>1982.0</td>\n",
              "    </tr>\n",
              "    <tr>\n",
              "      <th>7</th>\n",
              "      <td>2016-04-09 00:00:00</td>\n",
              "      <td>43.0</td>\n",
              "      <td>504.0</td>\n",
              "    </tr>\n",
              "    <tr>\n",
              "      <th>8</th>\n",
              "      <td>2016-04-10 00:00:00</td>\n",
              "      <td>48.9</td>\n",
              "      <td>1447.0</td>\n",
              "    </tr>\n",
              "    <tr>\n",
              "      <th>9</th>\n",
              "      <td>2016-04-13 00:00:00</td>\n",
              "      <td>57.0</td>\n",
              "      <td>2840.0</td>\n",
              "    </tr>\n",
              "    <tr>\n",
              "      <th>10</th>\n",
              "      <td>2016-04-15 00:00:00</td>\n",
              "      <td>64.0</td>\n",
              "      <td>2770.0</td>\n",
              "    </tr>\n",
              "    <tr>\n",
              "      <th>11</th>\n",
              "      <td>2016-04-16 00:00:00</td>\n",
              "      <td>66.0</td>\n",
              "      <td>2384.0</td>\n",
              "    </tr>\n",
              "    <tr>\n",
              "      <th>12</th>\n",
              "      <td>2016-04-17 00:00:00</td>\n",
              "      <td>73.9</td>\n",
              "      <td>3147.0</td>\n",
              "    </tr>\n",
              "    <tr>\n",
              "      <th>13</th>\n",
              "      <td>2016-04-19 00:00:00</td>\n",
              "      <td>71.1</td>\n",
              "      <td>3501.0</td>\n",
              "    </tr>\n",
              "    <tr>\n",
              "      <th>14</th>\n",
              "      <td>2016-04-20 00:00:00</td>\n",
              "      <td>68.0</td>\n",
              "      <td>3450.0</td>\n",
              "    </tr>\n",
              "    <tr>\n",
              "      <th>15</th>\n",
              "      <td>2016-04-21 00:00:00</td>\n",
              "      <td>71.1</td>\n",
              "      <td>3436.0</td>\n",
              "    </tr>\n",
              "    <tr>\n",
              "      <th>16</th>\n",
              "      <td>2016-04-22 00:00:00</td>\n",
              "      <td>78.1</td>\n",
              "      <td>2975.0</td>\n",
              "    </tr>\n",
              "    <tr>\n",
              "      <th>17</th>\n",
              "      <td>2016-04-23 00:00:00</td>\n",
              "      <td>70.0</td>\n",
              "      <td>2055.0</td>\n",
              "    </tr>\n",
              "    <tr>\n",
              "      <th>18</th>\n",
              "      <td>2016-04-24 00:00:00</td>\n",
              "      <td>68.0</td>\n",
              "      <td>2798.0</td>\n",
              "    </tr>\n",
              "    <tr>\n",
              "      <th>19</th>\n",
              "      <td>2016-04-26 00:00:00</td>\n",
              "      <td>60.1</td>\n",
              "      <td>1997.0</td>\n",
              "    </tr>\n",
              "    <tr>\n",
              "      <th>20</th>\n",
              "      <td>2016-04-30 00:00:00</td>\n",
              "      <td>64.0</td>\n",
              "      <td>3199.0</td>\n",
              "    </tr>\n",
              "  </tbody>\n",
              "</table>\n",
              "</div>\n",
              "      <button class=\"colab-df-convert\" onclick=\"convertToInteractive('df-13f0d594-3788-4639-acc5-bebe4641ce95')\"\n",
              "              title=\"Convert this dataframe to an interactive table.\"\n",
              "              style=\"display:none;\">\n",
              "        \n",
              "  <svg xmlns=\"http://www.w3.org/2000/svg\" height=\"24px\"viewBox=\"0 0 24 24\"\n",
              "       width=\"24px\">\n",
              "    <path d=\"M0 0h24v24H0V0z\" fill=\"none\"/>\n",
              "    <path d=\"M18.56 5.44l.94 2.06.94-2.06 2.06-.94-2.06-.94-.94-2.06-.94 2.06-2.06.94zm-11 1L8.5 8.5l.94-2.06 2.06-.94-2.06-.94L8.5 2.5l-.94 2.06-2.06.94zm10 10l.94 2.06.94-2.06 2.06-.94-2.06-.94-.94-2.06-.94 2.06-2.06.94z\"/><path d=\"M17.41 7.96l-1.37-1.37c-.4-.4-.92-.59-1.43-.59-.52 0-1.04.2-1.43.59L10.3 9.45l-7.72 7.72c-.78.78-.78 2.05 0 2.83L4 21.41c.39.39.9.59 1.41.59.51 0 1.02-.2 1.41-.59l7.78-7.78 2.81-2.81c.8-.78.8-2.07 0-2.86zM5.41 20L4 18.59l7.72-7.72 1.47 1.35L5.41 20z\"/>\n",
              "  </svg>\n",
              "      </button>\n",
              "      \n",
              "  <style>\n",
              "    .colab-df-container {\n",
              "      display:flex;\n",
              "      flex-wrap:wrap;\n",
              "      gap: 12px;\n",
              "    }\n",
              "\n",
              "    .colab-df-convert {\n",
              "      background-color: #E8F0FE;\n",
              "      border: none;\n",
              "      border-radius: 50%;\n",
              "      cursor: pointer;\n",
              "      display: none;\n",
              "      fill: #1967D2;\n",
              "      height: 32px;\n",
              "      padding: 0 0 0 0;\n",
              "      width: 32px;\n",
              "    }\n",
              "\n",
              "    .colab-df-convert:hover {\n",
              "      background-color: #E2EBFA;\n",
              "      box-shadow: 0px 1px 2px rgba(60, 64, 67, 0.3), 0px 1px 3px 1px rgba(60, 64, 67, 0.15);\n",
              "      fill: #174EA6;\n",
              "    }\n",
              "\n",
              "    [theme=dark] .colab-df-convert {\n",
              "      background-color: #3B4455;\n",
              "      fill: #D2E3FC;\n",
              "    }\n",
              "\n",
              "    [theme=dark] .colab-df-convert:hover {\n",
              "      background-color: #434B5C;\n",
              "      box-shadow: 0px 1px 3px 1px rgba(0, 0, 0, 0.15);\n",
              "      filter: drop-shadow(0px 1px 2px rgba(0, 0, 0, 0.3));\n",
              "      fill: #FFFFFF;\n",
              "    }\n",
              "  </style>\n",
              "\n",
              "      <script>\n",
              "        const buttonEl =\n",
              "          document.querySelector('#df-13f0d594-3788-4639-acc5-bebe4641ce95 button.colab-df-convert');\n",
              "        buttonEl.style.display =\n",
              "          google.colab.kernel.accessAllowed ? 'block' : 'none';\n",
              "\n",
              "        async function convertToInteractive(key) {\n",
              "          const element = document.querySelector('#df-13f0d594-3788-4639-acc5-bebe4641ce95');\n",
              "          const dataTable =\n",
              "            await google.colab.kernel.invokeFunction('convertToInteractive',\n",
              "                                                     [key], {});\n",
              "          if (!dataTable) return;\n",
              "\n",
              "          const docLinkHtml = 'Like what you see? Visit the ' +\n",
              "            '<a target=\"_blank\" href=https://colab.research.google.com/notebooks/data_table.ipynb>data table notebook</a>'\n",
              "            + ' to learn more about interactive tables.';\n",
              "          element.innerHTML = '';\n",
              "          dataTable['output_type'] = 'display_data';\n",
              "          await google.colab.output.renderOutput(dataTable, element);\n",
              "          const docLink = document.createElement('div');\n",
              "          docLink.innerHTML = docLinkHtml;\n",
              "          element.appendChild(docLink);\n",
              "        }\n",
              "      </script>\n",
              "    </div>\n",
              "  </div>\n",
              "  "
            ]
          },
          "metadata": {},
          "execution_count": 99
        }
      ]
    },
    {
      "cell_type": "markdown",
      "source": [
        "Again, it's always a good idea to visualize your data before training a model. Use a scatter plot to plot the number of bicycles vs temperature."
      ],
      "metadata": {
        "id": "Gkv9kGRHuQCi"
      },
      "id": "Gkv9kGRHuQCi"
    },
    {
      "cell_type": "code",
      "source": [
        "\n",
        "\n",
        "plt.figure(figsize=(8, 5))\n",
        "\n",
        "plt.scatter (bike_train_df[['Temperature']], bike_train_df['Number of bicycles'])\n",
        "plt.xlabel('Temperature (F)', fontsize=12)\n",
        "plt.ylabel('Number of bicycles', fontsize=12)\n",
        "plt.title('Number of bicycles over Brooklyn Bridge', fontsize=14)"
      ],
      "metadata": {
        "id": "OHeclaEgr3Ud",
        "colab": {
          "base_uri": "https://localhost:8080/",
          "height": 371
        },
        "outputId": "5448365f-c2a4-405f-87f6-b91088a07b5a"
      },
      "id": "OHeclaEgr3Ud",
      "execution_count": null,
      "outputs": [
        {
          "output_type": "execute_result",
          "data": {
            "text/plain": [
              "Text(0.5, 1.0, 'Number of bicycles over Brooklyn Bridge')"
            ]
          },
          "metadata": {},
          "execution_count": 113
        },
        {
          "output_type": "display_data",
          "data": {
            "text/plain": [
              "<Figure size 576x360 with 1 Axes>"
            ],
            "image/png": "[encoded data removed]"
          },
          "metadata": {
            "needs_background": "light"
          }
        }
      ]
    },
    {
      "cell_type": "markdown",
      "source": [
        "Train a linear regression model in sklearn to predict number of bicycles from temperature."
      ],
      "metadata": {
        "id": "Fy5kFkNGuxGq"
      },
      "id": "Fy5kFkNGuxGq"
    },
    {
      "cell_type": "code",
      "source": [
        "\n",
        "\n",
        "model = LinearRegression()\n",
        "\n",
        "model.fit(bike_train_df[['Temperature']], bike_train_df['Number of bicycles'])"
      ],
      "metadata": {
        "colab": {
          "base_uri": "https://localhost:8080/"
        },
        "id": "g1uY8t_RsZ-k",
        "outputId": "ff1a119c-b3af-4fe5-efec-0cc08d04d50a"
      },
      "id": "g1uY8t_RsZ-k",
      "execution_count": null,
      "outputs": [
        {
          "output_type": "execute_result",
          "data": {
            "text/plain": [
              "LinearRegression()"
            ]
          },
          "metadata": {},
          "execution_count": 116
        }
      ]
    },
    {
      "cell_type": "markdown",
      "source": [
        "Use your trained model to make predictions on the training data."
      ],
      "metadata": {
        "id": "EBJ9FCIGvG6v"
      },
      "id": "EBJ9FCIGvG6v"
    },
    {
      "cell_type": "code",
      "source": [
        "### Your code here\n",
        "\n",
        "### TODO: fill in the line below\n",
        "bike_predictions_train = model.predict(bike_train_df[['Temperature']])\n",
        "bike_predictions_train"
      ],
      "metadata": {
        "id": "Xl1Eo-N8s3ET",
        "colab": {
          "base_uri": "https://localhost:8080/"
        },
        "outputId": "9a66ecca-aa50-411a-f230-c8fb8fbe223c"
      },
      "id": "Xl1Eo-N8s3ET",
      "execution_count": null,
      "outputs": [
        {
          "output_type": "execute_result",
          "data": {
            "text/plain": [
              "array([3197.77751825, 1879.60970132, 1257.61709506, 1143.49001135,\n",
              "       1308.97428273, 1993.73678504, 1417.39501227, 1194.84719902,\n",
              "       1531.52209598, 1993.73678504, 2393.18157804, 2507.30866176,\n",
              "       2958.11064244, 2798.33272524, 2621.43574548, 2798.33272524,\n",
              "       3197.77751825, 2735.56282919, 2621.43574548, 2170.6337648 ,\n",
              "       2393.18157804])"
            ]
          },
          "metadata": {},
          "execution_count": 117
        }
      ]
    },
    {
      "cell_type": "markdown",
      "source": [
        "Let's plot our model's predictions (red line) along with the actual data points (blue)."
      ],
      "metadata": {
        "id": "_QwVnIIHvISh"
      },
      "id": "_QwVnIIHvISh"
    },
    {
      "cell_type": "code",
      "source": [
        "plt.figure(figsize=(8, 5))\n",
        "plt.scatter(bike_train_df['Temperature'], bike_train_df['Number of bicycles'])\n",
        "plt.xlabel('Temperature (F)', fontsize=12)\n",
        "plt.ylabel('Number of bicycles', fontsize=12)\n",
        "plt.title('Number of bicycles over Brooklyn Bridge', fontsize=14)\n",
        "\n",
        "plt.plot(bike_train_df['Temperature'], bike_predictions_train, label='Predicted', color='tab:red')\n",
        "plt.legend(fontsize=12)"
      ],
      "metadata": {
        "id": "PE-Rp_xms-yD",
        "colab": {
          "base_uri": "https://localhost:8080/",
          "height": 371
        },
        "outputId": "82b49ae1-e30d-430f-c980-e6cdb142e05c"
      },
      "id": "PE-Rp_xms-yD",
      "execution_count": null,
      "outputs": [
        {
          "output_type": "execute_result",
          "data": {
            "text/plain": [
              "<matplotlib.legend.Legend at 0x7f77a24f8250>"
            ]
          },
          "metadata": {},
          "execution_count": 118
        },
        {
          "output_type": "display_data",
          "data": {
            "text/plain": [
              "<Figure size 576x360 with 1 Axes>"
            ],
            "image/png": "[encoded data removed]"
          },
          "metadata": {
            "needs_background": "light"
          }
        }
      ]
    },
    {
      "cell_type": "markdown",
      "source": [
        "Finally, let's load in a test dataset to make predictions on data points that our model has not seen before."
      ],
      "metadata": {
        "id": "_Z0X7zBEvOY4"
      },
      "id": "_Z0X7zBEvOY4"
    },
    {
      "cell_type": "code",
      "source": [
        "bike_test_df = pd.read_csv('/content/drive/MyDrive/data sci/Copy of brooklyn_bridge_bicycles_test.csv')\n",
        "bike_test_df"
      ],
      "metadata": {
        "colab": {
          "base_uri": "https://localhost:8080/",
          "height": 332
        },
        "id": "JSHiut0zri2S",
        "outputId": "5c3df8c7-adea-410c-ae47-e3db92f51138"
      },
      "id": "JSHiut0zri2S",
      "execution_count": null,
      "outputs": [
        {
          "output_type": "execute_result",
          "data": {
            "text/plain": [
              "                  Date  Temperature  Number of bicycles\n",
              "0  2016-04-03 00:00:00         39.9               526.0\n",
              "1  2016-04-11 00:00:00         62.1              2005.0\n",
              "2  2016-04-12 00:00:00         57.0              1045.0\n",
              "3  2016-04-14 00:00:00         62.1              2861.0\n",
              "4  2016-04-18 00:00:00         81.0              3871.0\n",
              "5  2016-04-25 00:00:00         66.9              3463.0\n",
              "6  2016-04-27 00:00:00         62.1              3343.0\n",
              "7  2016-04-28 00:00:00         57.9              2486.0\n",
              "8  2016-04-29 00:00:00         57.0              2375.0"
            ],
            "text/html": [
              "\n",
              "  <div id=\"df-b0db9119-03c4-493f-adfc-f2ca20a2b393\">\n",
              "    <div class=\"colab-df-container\">\n",
              "      <div>\n",
              "<style scoped>\n",
              "    .dataframe tbody tr th:only-of-type {\n",
              "        vertical-align: middle;\n",
              "    }\n",
              "\n",
              "    .dataframe tbody tr th {\n",
              "        vertical-align: top;\n",
              "    }\n",
              "\n",
              "    .dataframe thead th {\n",
              "        text-align: right;\n",
              "    }\n",
              "</style>\n",
              "<table border=\"1\" class=\"dataframe\">\n",
              "  <thead>\n",
              "    <tr style=\"text-align: right;\">\n",
              "      <th></th>\n",
              "      <th>Date</th>\n",
              "      <th>Temperature</th>\n",
              "      <th>Number of bicycles</th>\n",
              "    </tr>\n",
              "  </thead>\n",
              "  <tbody>\n",
              "    <tr>\n",
              "      <th>0</th>\n",
              "      <td>2016-04-03 00:00:00</td>\n",
              "      <td>39.9</td>\n",
              "      <td>526.0</td>\n",
              "    </tr>\n",
              "    <tr>\n",
              "      <th>1</th>\n",
              "      <td>2016-04-11 00:00:00</td>\n",
              "      <td>62.1</td>\n",
              "      <td>2005.0</td>\n",
              "    </tr>\n",
              "    <tr>\n",
              "      <th>2</th>\n",
              "      <td>2016-04-12 00:00:00</td>\n",
              "      <td>57.0</td>\n",
              "      <td>1045.0</td>\n",
              "    </tr>\n",
              "    <tr>\n",
              "      <th>3</th>\n",
              "      <td>2016-04-14 00:00:00</td>\n",
              "      <td>62.1</td>\n",
              "      <td>2861.0</td>\n",
              "    </tr>\n",
              "    <tr>\n",
              "      <th>4</th>\n",
              "      <td>2016-04-18 00:00:00</td>\n",
              "      <td>81.0</td>\n",
              "      <td>3871.0</td>\n",
              "    </tr>\n",
              "    <tr>\n",
              "      <th>5</th>\n",
              "      <td>2016-04-25 00:00:00</td>\n",
              "      <td>66.9</td>\n",
              "      <td>3463.0</td>\n",
              "    </tr>\n",
              "    <tr>\n",
              "      <th>6</th>\n",
              "      <td>2016-04-27 00:00:00</td>\n",
              "      <td>62.1</td>\n",
              "      <td>3343.0</td>\n",
              "    </tr>\n",
              "    <tr>\n",
              "      <th>7</th>\n",
              "      <td>2016-04-28 00:00:00</td>\n",
              "      <td>57.9</td>\n",
              "      <td>2486.0</td>\n",
              "    </tr>\n",
              "    <tr>\n",
              "      <th>8</th>\n",
              "      <td>2016-04-29 00:00:00</td>\n",
              "      <td>57.0</td>\n",
              "      <td>2375.0</td>\n",
              "    </tr>\n",
              "  </tbody>\n",
              "</table>\n",
              "</div>\n",
              "      <button class=\"colab-df-convert\" onclick=\"convertToInteractive('df-b0db9119-03c4-493f-adfc-f2ca20a2b393')\"\n",
              "              title=\"Convert this dataframe to an interactive table.\"\n",
              "              style=\"display:none;\">\n",
              "        \n",
              "  <svg xmlns=\"http://www.w3.org/2000/svg\" height=\"24px\"viewBox=\"0 0 24 24\"\n",
              "       width=\"24px\">\n",
              "    <path d=\"M0 0h24v24H0V0z\" fill=\"none\"/>\n",
              "    <path d=\"M18.56 5.44l.94 2.06.94-2.06 2.06-.94-2.06-.94-.94-2.06-.94 2.06-2.06.94zm-11 1L8.5 8.5l.94-2.06 2.06-.94-2.06-.94L8.5 2.5l-.94 2.06-2.06.94zm10 10l.94 2.06.94-2.06 2.06-.94-2.06-.94-.94-2.06-.94 2.06-2.06.94z\"/><path d=\"M17.41 7.96l-1.37-1.37c-.4-.4-.92-.59-1.43-.59-.52 0-1.04.2-1.43.59L10.3 9.45l-7.72 7.72c-.78.78-.78 2.05 0 2.83L4 21.41c.39.39.9.59 1.41.59.51 0 1.02-.2 1.41-.59l7.78-7.78 2.81-2.81c.8-.78.8-2.07 0-2.86zM5.41 20L4 18.59l7.72-7.72 1.47 1.35L5.41 20z\"/>\n",
              "  </svg>\n",
              "      </button>\n",
              "      \n",
              "  <style>\n",
              "    .colab-df-container {\n",
              "      display:flex;\n",
              "      flex-wrap:wrap;\n",
              "      gap: 12px;\n",
              "    }\n",
              "\n",
              "    .colab-df-convert {\n",
              "      background-color: #E8F0FE;\n",
              "      border: none;\n",
              "      border-radius: 50%;\n",
              "      cursor: pointer;\n",
              "      display: none;\n",
              "      fill: #1967D2;\n",
              "      height: 32px;\n",
              "      padding: 0 0 0 0;\n",
              "      width: 32px;\n",
              "    }\n",
              "\n",
              "    .colab-df-convert:hover {\n",
              "      background-color: #E2EBFA;\n",
              "      box-shadow: 0px 1px 2px rgba(60, 64, 67, 0.3), 0px 1px 3px 1px rgba(60, 64, 67, 0.15);\n",
              "      fill: #174EA6;\n",
              "    }\n",
              "\n",
              "    [theme=dark] .colab-df-convert {\n",
              "      background-color: #3B4455;\n",
              "      fill: #D2E3FC;\n",
              "    }\n",
              "\n",
              "    [theme=dark] .colab-df-convert:hover {\n",
              "      background-color: #434B5C;\n",
              "      box-shadow: 0px 1px 3px 1px rgba(0, 0, 0, 0.15);\n",
              "      filter: drop-shadow(0px 1px 2px rgba(0, 0, 0, 0.3));\n",
              "      fill: #FFFFFF;\n",
              "    }\n",
              "  </style>\n",
              "\n",
              "      <script>\n",
              "        const buttonEl =\n",
              "          document.querySelector('#df-b0db9119-03c4-493f-adfc-f2ca20a2b393 button.colab-df-convert');\n",
              "        buttonEl.style.display =\n",
              "          google.colab.kernel.accessAllowed ? 'block' : 'none';\n",
              "\n",
              "        async function convertToInteractive(key) {\n",
              "          const element = document.querySelector('#df-b0db9119-03c4-493f-adfc-f2ca20a2b393');\n",
              "          const dataTable =\n",
              "            await google.colab.kernel.invokeFunction('convertToInteractive',\n",
              "                                                     [key], {});\n",
              "          if (!dataTable) return;\n",
              "\n",
              "          const docLinkHtml = 'Like what you see? Visit the ' +\n",
              "            '<a target=\"_blank\" href=https://colab.research.google.com/notebooks/data_table.ipynb>data table notebook</a>'\n",
              "            + ' to learn more about interactive tables.';\n",
              "          element.innerHTML = '';\n",
              "          dataTable['output_type'] = 'display_data';\n",
              "          await google.colab.output.renderOutput(dataTable, element);\n",
              "          const docLink = document.createElement('div');\n",
              "          docLink.innerHTML = docLinkHtml;\n",
              "          element.appendChild(docLink);\n",
              "        }\n",
              "      </script>\n",
              "    </div>\n",
              "  </div>\n",
              "  "
            ]
          },
          "metadata": {},
          "execution_count": 120
        }
      ]
    },
    {
      "cell_type": "markdown",
      "source": [
        "Use your trained model to make predictions on the test set temperatures."
      ],
      "metadata": {
        "id": "sz45It8AvZqO"
      },
      "id": "sz45It8AvZqO"
    },
    {
      "cell_type": "code",
      "source": [
        "### Your code here\n",
        "\n",
        "# TODO: fill in the line below\n",
        "bike_predictions_test = model.predict(X=bike_test_df[['Temperature']])\n",
        "bike_predictions_test"
      ],
      "metadata": {
        "id": "hAxz_iXStRwF",
        "colab": {
          "base_uri": "https://localhost:8080/"
        },
        "outputId": "8bbe6a22-344b-437c-b88b-b3a55f5f1841"
      },
      "id": "hAxz_iXStRwF",
      "execution_count": null,
      "outputs": [
        {
          "output_type": "execute_result",
          "data": {
            "text/plain": [
              "array([1017.95021926, 2284.76084851, 1993.73678504, 2284.76084851,\n",
              "       3363.26178964, 2558.66584943, 2284.76084851, 2045.09397271,\n",
              "       1993.73678504])"
            ]
          },
          "metadata": {},
          "execution_count": 134
        }
      ]
    },
    {
      "cell_type": "markdown",
      "source": [
        "We can compare our predictions against the true values to see how well the model did! What do you think?"
      ],
      "metadata": {
        "id": "CxydSphmvjS4"
      },
      "id": "CxydSphmvjS4"
    },
    {
      "cell_type": "code",
      "source": [
        "bike_test_df['Number of bicycles (predicted)'] = bike_predictions_test\n",
        "bike_test_df"
      ],
      "metadata": {
        "id": "rQsIGOa7r5lu",
        "colab": {
          "base_uri": "https://localhost:8080/",
          "height": 332
        },
        "outputId": "6bf58b5a-c386-42ba-a46e-5d6abf187da4"
      },
      "id": "rQsIGOa7r5lu",
      "execution_count": null,
      "outputs": [
        {
          "output_type": "execute_result",
          "data": {
            "text/plain": [
              "                  Date  Temperature  Number of bicycles  \\\n",
              "0  2016-04-03 00:00:00         39.9               526.0   \n",
              "1  2016-04-11 00:00:00         62.1              2005.0   \n",
              "2  2016-04-12 00:00:00         57.0              1045.0   \n",
              "3  2016-04-14 00:00:00         62.1              2861.0   \n",
              "4  2016-04-18 00:00:00         81.0              3871.0   \n",
              "5  2016-04-25 00:00:00         66.9              3463.0   \n",
              "6  2016-04-27 00:00:00         62.1              3343.0   \n",
              "7  2016-04-28 00:00:00         57.9              2486.0   \n",
              "8  2016-04-29 00:00:00         57.0              2375.0   \n",
              "\n",
              "   Number of bicycles (predicted)  \n",
              "0                     1017.950219  \n",
              "1                     2284.760849  \n",
              "2                     1993.736785  \n",
              "3                     2284.760849  \n",
              "4                     3363.261790  \n",
              "5                     2558.665849  \n",
              "6                     2284.760849  \n",
              "7                     2045.093973  \n",
              "8                     1993.736785  "
            ],
            "text/html": [
              "\n",
              "  <div id=\"df-986713e5-aad9-44a2-9487-10a7ead06480\">\n",
              "    <div class=\"colab-df-container\">\n",
              "      <div>\n",
              "<style scoped>\n",
              "    .dataframe tbody tr th:only-of-type {\n",
              "        vertical-align: middle;\n",
              "    }\n",
              "\n",
              "    .dataframe tbody tr th {\n",
              "        vertical-align: top;\n",
              "    }\n",
              "\n",
              "    .dataframe thead th {\n",
              "        text-align: right;\n",
              "    }\n",
              "</style>\n",
              "<table border=\"1\" class=\"dataframe\">\n",
              "  <thead>\n",
              "    <tr style=\"text-align: right;\">\n",
              "      <th></th>\n",
              "      <th>Date</th>\n",
              "      <th>Temperature</th>\n",
              "      <th>Number of bicycles</th>\n",
              "      <th>Number of bicycles (predicted)</th>\n",
              "    </tr>\n",
              "  </thead>\n",
              "  <tbody>\n",
              "    <tr>\n",
              "      <th>0</th>\n",
              "      <td>2016-04-03 00:00:00</td>\n",
              "      <td>39.9</td>\n",
              "      <td>526.0</td>\n",
              "      <td>1017.950219</td>\n",
              "    </tr>\n",
              "    <tr>\n",
              "      <th>1</th>\n",
              "      <td>2016-04-11 00:00:00</td>\n",
              "      <td>62.1</td>\n",
              "      <td>2005.0</td>\n",
              "      <td>2284.760849</td>\n",
              "    </tr>\n",
              "    <tr>\n",
              "      <th>2</th>\n",
              "      <td>2016-04-12 00:00:00</td>\n",
              "      <td>57.0</td>\n",
              "      <td>1045.0</td>\n",
              "      <td>1993.736785</td>\n",
              "    </tr>\n",
              "    <tr>\n",
              "      <th>3</th>\n",
              "      <td>2016-04-14 00:00:00</td>\n",
              "      <td>62.1</td>\n",
              "      <td>2861.0</td>\n",
              "      <td>2284.760849</td>\n",
              "    </tr>\n",
              "    <tr>\n",
              "      <th>4</th>\n",
              "      <td>2016-04-18 00:00:00</td>\n",
              "      <td>81.0</td>\n",
              "      <td>3871.0</td>\n",
              "      <td>3363.261790</td>\n",
              "    </tr>\n",
              "    <tr>\n",
              "      <th>5</th>\n",
              "      <td>2016-04-25 00:00:00</td>\n",
              "      <td>66.9</td>\n",
              "      <td>3463.0</td>\n",
              "      <td>2558.665849</td>\n",
              "    </tr>\n",
              "    <tr>\n",
              "      <th>6</th>\n",
              "      <td>2016-04-27 00:00:00</td>\n",
              "      <td>62.1</td>\n",
              "      <td>3343.0</td>\n",
              "      <td>2284.760849</td>\n",
              "    </tr>\n",
              "    <tr>\n",
              "      <th>7</th>\n",
              "      <td>2016-04-28 00:00:00</td>\n",
              "      <td>57.9</td>\n",
              "      <td>2486.0</td>\n",
              "      <td>2045.093973</td>\n",
              "    </tr>\n",
              "    <tr>\n",
              "      <th>8</th>\n",
              "      <td>2016-04-29 00:00:00</td>\n",
              "      <td>57.0</td>\n",
              "      <td>2375.0</td>\n",
              "      <td>1993.736785</td>\n",
              "    </tr>\n",
              "  </tbody>\n",
              "</table>\n",
              "</div>\n",
              "      <button class=\"colab-df-convert\" onclick=\"convertToInteractive('df-986713e5-aad9-44a2-9487-10a7ead06480')\"\n",
              "              title=\"Convert this dataframe to an interactive table.\"\n",
              "              style=\"display:none;\">\n",
              "        \n",
              "  <svg xmlns=\"http://www.w3.org/2000/svg\" height=\"24px\"viewBox=\"0 0 24 24\"\n",
              "       width=\"24px\">\n",
              "    <path d=\"M0 0h24v24H0V0z\" fill=\"none\"/>\n",
              "    <path d=\"M18.56 5.44l.94 2.06.94-2.06 2.06-.94-2.06-.94-.94-2.06-.94 2.06-2.06.94zm-11 1L8.5 8.5l.94-2.06 2.06-.94-2.06-.94L8.5 2.5l-.94 2.06-2.06.94zm10 10l.94 2.06.94-2.06 2.06-.94-2.06-.94-.94-2.06-.94 2.06-2.06.94z\"/><path d=\"M17.41 7.96l-1.37-1.37c-.4-.4-.92-.59-1.43-.59-.52 0-1.04.2-1.43.59L10.3 9.45l-7.72 7.72c-.78.78-.78 2.05 0 2.83L4 21.41c.39.39.9.59 1.41.59.51 0 1.02-.2 1.41-.59l7.78-7.78 2.81-2.81c.8-.78.8-2.07 0-2.86zM5.41 20L4 18.59l7.72-7.72 1.47 1.35L5.41 20z\"/>\n",
              "  </svg>\n",
              "      </button>\n",
              "      \n",
              "  <style>\n",
              "    .colab-df-container {\n",
              "      display:flex;\n",
              "      flex-wrap:wrap;\n",
              "      gap: 12px;\n",
              "    }\n",
              "\n",
              "    .colab-df-convert {\n",
              "      background-color: #E8F0FE;\n",
              "      border: none;\n",
              "      border-radius: 50%;\n",
              "      cursor: pointer;\n",
              "      display: none;\n",
              "      fill: #1967D2;\n",
              "      height: 32px;\n",
              "      padding: 0 0 0 0;\n",
              "      width: 32px;\n",
              "    }\n",
              "\n",
              "    .colab-df-convert:hover {\n",
              "      background-color: #E2EBFA;\n",
              "      box-shadow: 0px 1px 2px rgba(60, 64, 67, 0.3), 0px 1px 3px 1px rgba(60, 64, 67, 0.15);\n",
              "      fill: #174EA6;\n",
              "    }\n",
              "\n",
              "    [theme=dark] .colab-df-convert {\n",
              "      background-color: #3B4455;\n",
              "      fill: #D2E3FC;\n",
              "    }\n",
              "\n",
              "    [theme=dark] .colab-df-convert:hover {\n",
              "      background-color: #434B5C;\n",
              "      box-shadow: 0px 1px 3px 1px rgba(0, 0, 0, 0.15);\n",
              "      filter: drop-shadow(0px 1px 2px rgba(0, 0, 0, 0.3));\n",
              "      fill: #FFFFFF;\n",
              "    }\n",
              "  </style>\n",
              "\n",
              "      <script>\n",
              "        const buttonEl =\n",
              "          document.querySelector('#df-986713e5-aad9-44a2-9487-10a7ead06480 button.colab-df-convert');\n",
              "        buttonEl.style.display =\n",
              "          google.colab.kernel.accessAllowed ? 'block' : 'none';\n",
              "\n",
              "        async function convertToInteractive(key) {\n",
              "          const element = document.querySelector('#df-986713e5-aad9-44a2-9487-10a7ead06480');\n",
              "          const dataTable =\n",
              "            await google.colab.kernel.invokeFunction('convertToInteractive',\n",
              "                                                     [key], {});\n",
              "          if (!dataTable) return;\n",
              "\n",
              "          const docLinkHtml = 'Like what you see? Visit the ' +\n",
              "            '<a target=\"_blank\" href=https://colab.research.google.com/notebooks/data_table.ipynb>data table notebook</a>'\n",
              "            + ' to learn more about interactive tables.';\n",
              "          element.innerHTML = '';\n",
              "          dataTable['output_type'] = 'display_data';\n",
              "          await google.colab.output.renderOutput(dataTable, element);\n",
              "          const docLink = document.createElement('div');\n",
              "          docLink.innerHTML = docLinkHtml;\n",
              "          element.appendChild(docLink);\n",
              "        }\n",
              "      </script>\n",
              "    </div>\n",
              "  </div>\n",
              "  "
            ]
          },
          "metadata": {},
          "execution_count": 135
        }
      ]
    },
    {
      "cell_type": "code",
      "execution_count": null,
      "id": "afe6e43f",
      "metadata": {
        "id": "afe6e43f"
      },
      "outputs": [],
      "source": []
    }
  ],
  "metadata": {
    "kernelspec": {
      "display_name": "Python 3 (ipykernel)",
      "language": "python",
      "name": "python3"
    },
    "language_info": {
      "codemirror_mode": {
        "name": "ipython",
        "version": 3
      },
      "file_extension": ".py",
      "mimetype": "text/x-python",
      "name": "python",
      "nbconvert_exporter": "python",
      "pygments_lexer": "ipython3",
      "version": "3.9.7"
    },
    "colab": {
      "provenance": [],
      "include_colab_link": true
    }
  },
  "nbformat": 4,
  "nbformat_minor": 5
}