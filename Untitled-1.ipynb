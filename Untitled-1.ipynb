{
 "cells": [
  {
   "cell_type": "markdown",
   "metadata": {},
   "source": [
    "Lab 1: Practice Working with NumPy and Pandas"
   ]
  },
  {
   "cell_type": "code",
   "execution_count": 86,
   "metadata": {},
   "outputs": [
    {
     "name": "stdout",
     "output_type": "stream",
     "text": [
      "Requirement already satisfied: pandas in /home/linuxbrew/.linuxbrew/opt/python@3.11/lib/python3.11/site-packages (2.1.4)\n",
      "Requirement already satisfied: numpy in /home/linuxbrew/.linuxbrew/opt/python@3.11/lib/python3.11/site-packages (1.26.3)\n",
      "Collecting matplotlib\n",
      "  Obtaining dependency information for matplotlib from https://files.pythonhosted.org/packages/92/1a/cd3e0c90d1a763ad90073e13b189b4702f11becf4e71dbbad70a7a149811/matplotlib-3.8.2-cp311-cp311-manylinux_2_17_x86_64.manylinux2014_x86_64.whl.metadata\n",
      "  Downloading matplotlib-3.8.2-cp311-cp311-manylinux_2_17_x86_64.manylinux2014_x86_64.whl.metadata (5.8 kB)\n",
      "Requirement already satisfied: python-dateutil>=2.8.2 in /home/caroline/.local/lib/python3.11/site-packages (from pandas) (2.8.2)\n",
      "Requirement already satisfied: pytz>=2020.1 in /home/linuxbrew/.linuxbrew/opt/python@3.11/lib/python3.11/site-packages (from pandas) (2023.3.post1)\n",
      "Requirement already satisfied: tzdata>=2022.1 in /home/linuxbrew/.linuxbrew/opt/python@3.11/lib/python3.11/site-packages (from pandas) (2023.4)\n",
      "Collecting contourpy>=1.0.1 (from matplotlib)\n",
      "  Obtaining dependency information for contourpy>=1.0.1 from https://files.pythonhosted.org/packages/e2/83/29a63bbc72839cc6b24b5a0e3d004d4ed4e8439f26460ad9a34e39251904/contourpy-1.2.0-cp311-cp311-manylinux_2_17_x86_64.manylinux2014_x86_64.whl.metadata\n",
      "  Downloading contourpy-1.2.0-cp311-cp311-manylinux_2_17_x86_64.manylinux2014_x86_64.whl.metadata (5.8 kB)\n",
      "Collecting cycler>=0.10 (from matplotlib)\n",
      "  Obtaining dependency information for cycler>=0.10 from https://files.pythonhosted.org/packages/e7/05/c19819d5e3d95294a6f5947fb9b9629efb316b96de511b418c53d245aae6/cycler-0.12.1-py3-none-any.whl.metadata\n",
      "  Downloading cycler-0.12.1-py3-none-any.whl.metadata (3.8 kB)\n",
      "Collecting fonttools>=4.22.0 (from matplotlib)\n",
      "  Obtaining dependency information for fonttools>=4.22.0 from https://files.pythonhosted.org/packages/8d/44/1e3b6f7dd8fb046cbfa5d3c0f50dea8fa84f75fd89e1eb170624311d55f0/fonttools-4.47.0-cp311-cp311-manylinux_2_17_x86_64.manylinux2014_x86_64.whl.metadata\n",
      "  Downloading fonttools-4.47.0-cp311-cp311-manylinux_2_17_x86_64.manylinux2014_x86_64.whl.metadata (157 kB)\n",
      "\u001b[2K     \u001b[90m━━━━━━━━━━━━━━━━━━━━━━━━━━━━━━━━━━━━━━━\u001b[0m \u001b[32m157.2/157.2 kB\u001b[0m \u001b[31m7.0 MB/s\u001b[0m eta \u001b[36m0:00:00\u001b[0m\n",
      "\u001b[?25hCollecting kiwisolver>=1.3.1 (from matplotlib)\n",
      "  Obtaining dependency information for kiwisolver>=1.3.1 from https://files.pythonhosted.org/packages/17/ba/17a706b232308e65f57deeccae503c268292e6a091313f6ce833a23093ea/kiwisolver-1.4.5-cp311-cp311-manylinux_2_17_x86_64.manylinux2014_x86_64.whl.metadata\n",
      "  Downloading kiwisolver-1.4.5-cp311-cp311-manylinux_2_17_x86_64.manylinux2014_x86_64.whl.metadata (6.4 kB)\n",
      "Requirement already satisfied: packaging>=20.0 in /home/caroline/.local/lib/python3.11/site-packages (from matplotlib) (23.1)\n",
      "Collecting pillow>=8 (from matplotlib)\n",
      "  Obtaining dependency information for pillow>=8 from https://files.pythonhosted.org/packages/66/9c/2e1877630eb298bbfd23f90deeec0a3f682a4163d5ca9f178937de57346c/pillow-10.2.0-cp311-cp311-manylinux_2_28_x86_64.whl.metadata\n",
      "  Downloading pillow-10.2.0-cp311-cp311-manylinux_2_28_x86_64.whl.metadata (9.7 kB)\n",
      "Collecting pyparsing>=2.3.1 (from matplotlib)\n",
      "  Obtaining dependency information for pyparsing>=2.3.1 from https://files.pythonhosted.org/packages/39/92/8486ede85fcc088f1b3dba4ce92dd29d126fd96b0008ea213167940a2475/pyparsing-3.1.1-py3-none-any.whl.metadata\n",
      "  Downloading pyparsing-3.1.1-py3-none-any.whl.metadata (5.1 kB)\n",
      "Requirement already satisfied: six>=1.5 in /home/caroline/.local/lib/python3.11/site-packages (from python-dateutil>=2.8.2->pandas) (1.16.0)\n",
      "Downloading matplotlib-3.8.2-cp311-cp311-manylinux_2_17_x86_64.manylinux2014_x86_64.whl (11.6 MB)\n",
      "\u001b[2K   \u001b[90m━━━━━━━━━━━━━━━━━━━━━━━━━━━━━━━━━━━━━━━━\u001b[0m \u001b[32m11.6/11.6 MB\u001b[0m \u001b[31m8.8 MB/s\u001b[0m eta \u001b[36m0:00:00\u001b[0m00:01\u001b[0m00:01\u001b[0m\n",
      "\u001b[?25hDownloading contourpy-1.2.0-cp311-cp311-manylinux_2_17_x86_64.manylinux2014_x86_64.whl (313 kB)\n",
      "\u001b[2K   \u001b[90m━━━━━━━━━━━━━━━━━━━━━━━━━━━━━━━━━━━━━━━━\u001b[0m \u001b[32m313.4/313.4 kB\u001b[0m \u001b[31m3.7 MB/s\u001b[0m eta \u001b[36m0:00:00\u001b[0ma \u001b[36m0:00:01\u001b[0m\n",
      "\u001b[?25hDownloading cycler-0.12.1-py3-none-any.whl (8.3 kB)\n",
      "Downloading fonttools-4.47.0-cp311-cp311-manylinux_2_17_x86_64.manylinux2014_x86_64.whl (4.9 MB)\n",
      "\u001b[2K   \u001b[90m━━━━━━━━━━━━━━━━━━━━━━━━━━━━━━━━━━━━━━━━\u001b[0m \u001b[32m4.9/4.9 MB\u001b[0m \u001b[31m13.1 MB/s\u001b[0m eta \u001b[36m0:00:00\u001b[0m00:01\u001b[0m00:01\u001b[0m\n",
      "\u001b[?25hDownloading kiwisolver-1.4.5-cp311-cp311-manylinux_2_17_x86_64.manylinux2014_x86_64.whl (1.4 MB)\n",
      "\u001b[2K   \u001b[90m━━━━━━━━━━━━━━━━━━━━━━━━━━━━━━━━━━━━━━━━\u001b[0m \u001b[32m1.4/1.4 MB\u001b[0m \u001b[31m12.5 MB/s\u001b[0m eta \u001b[36m0:00:00\u001b[0m00:01\u001b[0m00:01\u001b[0m\n",
      "\u001b[?25hDownloading pillow-10.2.0-cp311-cp311-manylinux_2_28_x86_64.whl (4.5 MB)\n",
      "\u001b[2K   \u001b[90m━━━━━━━━━━━━━━━━━━━━━━━━━━━━━━━━━━━━━━━━\u001b[0m \u001b[32m4.5/4.5 MB\u001b[0m \u001b[31m13.1 MB/s\u001b[0m eta \u001b[36m0:00:00\u001b[0ma \u001b[36m0:00:01\u001b[0m\n",
      "\u001b[?25hDownloading pyparsing-3.1.1-py3-none-any.whl (103 kB)\n",
      "\u001b[2K   \u001b[90m━━━━━━━━━━━━━━━━━━━━━━━━━━━━━━━━━━━━━━━━\u001b[0m \u001b[32m103.1/103.1 kB\u001b[0m \u001b[31m7.5 MB/s\u001b[0m eta \u001b[36m0:00:00\u001b[0m\n",
      "\u001b[?25hInstalling collected packages: pyparsing, pillow, kiwisolver, fonttools, cycler, contourpy, matplotlib\n",
      "Successfully installed contourpy-1.2.0 cycler-0.12.1 fonttools-4.47.0 kiwisolver-1.4.5 matplotlib-3.8.2 pillow-10.2.0 pyparsing-3.1.1\n",
      "\n",
      "\u001b[1m[\u001b[0m\u001b[34;49mnotice\u001b[0m\u001b[1;39;49m]\u001b[0m\u001b[39;49m A new release of pip is available: \u001b[0m\u001b[31;49m23.2.1\u001b[0m\u001b[39;49m -> \u001b[0m\u001b[32;49m23.3.2\u001b[0m\n",
      "\u001b[1m[\u001b[0m\u001b[34;49mnotice\u001b[0m\u001b[1;39;49m]\u001b[0m\u001b[39;49m To update, run: \u001b[0m\u001b[32;49mpython3.11 -m pip install --upgrade pip\u001b[0m\n"
     ]
    }
   ],
   "source": [
    " !pip3 install pandas numpy matplotlib"
   ]
  },
  {
   "cell_type": "code",
   "execution_count": 87,
   "metadata": {},
   "outputs": [],
   "source": [
    "import pandas as pd\n",
    "import numpy as np\n",
    "import matplotlib.pyplot as plt"
   ]
  },
  {
   "cell_type": "markdown",
   "metadata": {},
   "source": [
    "In this lab you will practice working with the NumPy and Pandas packages. You will:\n",
    "\n",
    "Work with NumPy arrays and NumPy functions.\n",
    "Create Pandas DataFrames from data\n",
    "Use NumPy and Pandas to analyze the data\n",
    "Visualize the data with Matplotlib"
   ]
  },
  {
   "cell_type": "markdown",
   "metadata": {},
   "source": [
    "Part 1. NumPy Array"
   ]
  },
  {
   "cell_type": "markdown",
   "metadata": {},
   "source": [
    "a. Define a new Python list\n",
    "Let us practice defining a new list in Python:"
   ]
  },
  {
   "cell_type": "code",
   "execution_count": 3,
   "metadata": {},
   "outputs": [
    {
     "data": {
      "text/plain": [
       "[0, 0, 1, 2, 3, 3, 4.5, 7.6]"
      ]
     },
     "execution_count": 3,
     "metadata": {},
     "output_type": "execute_result"
    }
   ],
   "source": [
    "my_list = [0,0,1,2,3,3,4.5,7.6]\n",
    "my_list"
   ]
  },
  {
   "cell_type": "markdown",
   "metadata": {},
   "source": [
    "b. (Two ways to) define a range"
   ]
  },
  {
   "cell_type": "markdown",
   "metadata": {},
   "source": [
    "One type of list is a range of (e.g., integer) numbers. Ranges are useful for iterating over in a loop -- that is, to assign some variable to take on each value in this list sequentially. (For example, i=1, then i=2, then i=3, etc., until i=100.)\n",
    "\n",
    "Let's create an evenly spaced array of integers ranging from 0 to 11:"
   ]
  },
  {
   "cell_type": "code",
   "execution_count": 4,
   "metadata": {},
   "outputs": [
    {
     "data": {
      "text/plain": [
       "range(0, 12)"
      ]
     },
     "execution_count": 4,
     "metadata": {},
     "output_type": "execute_result"
    }
   ],
   "source": [
    "#First, the basic python way:\n",
    "my_range = range(0,12)\n",
    "my_range"
   ]
  },
  {
   "cell_type": "code",
   "execution_count": 5,
   "metadata": {},
   "outputs": [
    {
     "data": {
      "text/plain": [
       "array([ 0,  1,  2,  3,  4,  5,  6,  7,  8,  9, 10, 11])"
      ]
     },
     "execution_count": 5,
     "metadata": {},
     "output_type": "execute_result"
    }
   ],
   "source": [
    "#Now the numpy way:\n",
    "my_range_np = np.arange(12)\n",
    "my_range_np"
   ]
  },
  {
   "cell_type": "markdown",
   "metadata": {},
   "source": [
    "You can see that the first method returns a special 'range' object, while the latter returns an object of type 'numpy array'. If we convert both to lists, they will be the same:"
   ]
  },
  {
   "cell_type": "code",
   "execution_count": 6,
   "metadata": {},
   "outputs": [
    {
     "data": {
      "text/plain": [
       "[0, 1, 2, 3, 4, 5, 6, 7, 8, 9, 10, 11]"
      ]
     },
     "execution_count": 6,
     "metadata": {},
     "output_type": "execute_result"
    }
   ],
   "source": [
    "list(my_range)"
   ]
  },
  {
   "cell_type": "code",
   "execution_count": 7,
   "metadata": {},
   "outputs": [
    {
     "data": {
      "text/plain": [
       "[0, 1, 2, 3, 4, 5, 6, 7, 8, 9, 10, 11]"
      ]
     },
     "execution_count": 7,
     "metadata": {},
     "output_type": "execute_result"
    }
   ],
   "source": [
    "list(my_range_np)"
   ]
  },
  {
   "cell_type": "markdown",
   "metadata": {},
   "source": [
    "c. List comprehension"
   ]
  },
  {
   "cell_type": "markdown",
   "metadata": {},
   "source": [
    "Consider the task of replacing each value in a list with its square. The traditional way of performing te same transformation on every element of a list is via a for loop:"
   ]
  },
  {
   "cell_type": "code",
   "execution_count": 8,
   "metadata": {},
   "outputs": [
    {
     "name": "stdout",
     "output_type": "stream",
     "text": [
      "[  0   1   4   9  16  25  36  49  64  81 100 121]\n"
     ]
    }
   ],
   "source": [
    "my_range_np = np.arange(12)\n",
    "\n",
    "for i in range(0, len(my_range_np)):\n",
    "    my_range_np[i] = my_range_np[i]**2 #square each element\n",
    "print(my_range_np)"
   ]
  },
  {
   "cell_type": "markdown",
   "metadata": {},
   "source": [
    "That worked. However, there is a better, more 'Pythonic' way to do it.\n",
    "\n",
    "List comprehension is one of the most elegant functionalities native to Python, and is beloved by programmers like you. It offers a concise way of applying a particular transformation to every element in a list.\n",
    "\n",
    "Using list comprehension syntax, we can write a single, easily interpretable line that does the same transformation without using ranges, nor do we have to introduce an iterating index variable i:"
   ]
  },
  {
   "cell_type": "code",
   "execution_count": 9,
   "metadata": {},
   "outputs": [
    {
     "data": {
      "text/plain": [
       "[0, 1, 4, 9, 16, 25, 36, 49, 64, 81, 100, 121]"
      ]
     },
     "execution_count": 9,
     "metadata": {},
     "output_type": "execute_result"
    }
   ],
   "source": [
    "my_range_np = np.arange(12)\n",
    "\n",
    "my_range_np = [x**2 for x in my_range_np]\n",
    "my_range_np"
   ]
  },
  {
   "cell_type": "markdown",
   "metadata": {},
   "source": [
    "d. Creating a one-dimensional NumPy array."
   ]
  },
  {
   "cell_type": "markdown",
   "metadata": {},
   "source": [
    "Let's explicitly create a one-dimensional numpy array (as opposed to a list):"
   ]
  },
  {
   "cell_type": "code",
   "execution_count": 10,
   "metadata": {},
   "outputs": [
    {
     "data": {
      "text/plain": [
       "array([1, 2, 3, 4])"
      ]
     },
     "execution_count": 10,
     "metadata": {},
     "output_type": "execute_result"
    }
   ],
   "source": [
    "arr = np.array([1, 2, 3, 4])\n",
    "arr"
   ]
  },
  {
   "cell_type": "markdown",
   "metadata": {},
   "source": [
    "e. Retrieving the dimensions of data structure: len() and np.shape()"
   ]
  },
  {
   "cell_type": "markdown",
   "metadata": {},
   "source": [
    "How would we go about creating a variable that contains the length of our array arr ?\n",
    "We could use the Python function len()..."
   ]
  },
  {
   "cell_type": "code",
   "execution_count": 11,
   "metadata": {},
   "outputs": [
    {
     "data": {
      "text/plain": [
       "4"
      ]
     },
     "execution_count": 11,
     "metadata": {},
     "output_type": "execute_result"
    }
   ],
   "source": [
    "arr_length = len(arr)\n",
    "arr_length"
   ]
  },
  {
   "cell_type": "markdown",
   "metadata": {},
   "source": [
    "... or use the numpy function np.shape(), saving only the first of the two values that it returns:"
   ]
  },
  {
   "cell_type": "code",
   "execution_count": 12,
   "metadata": {},
   "outputs": [
    {
     "data": {
      "text/plain": [
       "4"
      ]
     },
     "execution_count": 12,
     "metadata": {},
     "output_type": "execute_result"
    }
   ],
   "source": [
    "arr_length = np.shape(arr)[0]\n",
    "arr_length"
   ]
  },
  {
   "cell_type": "markdown",
   "metadata": {},
   "source": [
    "Tip: try removing the slice indicator [0] and see how the output changes. Notice that there appears to be an empty 'slot' for another number in the returned value pair."
   ]
  },
  {
   "cell_type": "markdown",
   "metadata": {},
   "source": [
    "f. Creating a uniform (same value in every position) array: np.ones()"
   ]
  },
  {
   "cell_type": "markdown",
   "metadata": {},
   "source": [
    "We will now use np.ones() to create an array of a pre-specified length that contains the value '1' in each position:"
   ]
  },
  {
   "cell_type": "code",
   "execution_count": 13,
   "metadata": {},
   "outputs": [
    {
     "data": {
      "text/plain": [
       "array([1, 1, 1, 1, 1, 1, 1, 1, 1, 1, 1, 1, 1, 1, 1, 1, 1, 1, 1, 1, 1, 1,\n",
       "       1, 1, 1, 1, 1, 1, 1, 1, 1, 1, 1, 1, 1, 1, 1, 1, 1, 1, 1, 1, 1, 1,\n",
       "       1, 1, 1, 1, 1, 1, 1, 1, 1, 1, 1])"
      ]
     },
     "execution_count": 13,
     "metadata": {},
     "output_type": "execute_result"
    }
   ],
   "source": [
    "length = 55\n",
    "np.ones(length, dtype=int)"
   ]
  },
  {
   "cell_type": "markdown",
   "metadata": {},
   "source": [
    "We can use this method to create an array of any identical values.\n",
    "Let's create an array of length 13, filled with the vlue '7' in every position:"
   ]
  },
  {
   "cell_type": "code",
   "execution_count": 14,
   "metadata": {},
   "outputs": [
    {
     "data": {
      "text/plain": [
       "array([7, 7, 7, 7, 7, 7, 7, 7, 7, 7, 7, 7, 7])"
      ]
     },
     "execution_count": 14,
     "metadata": {},
     "output_type": "execute_result"
    }
   ],
   "source": [
    "7*np.ones(13, dtype=int)"
   ]
  },
  {
   "cell_type": "markdown",
   "metadata": {},
   "source": [
    "g. Creating two-dimensional arrays"
   ]
  },
  {
   "cell_type": "markdown",
   "metadata": {},
   "source": [
    "Exploring the possibilities of the np.array() function further, let's move on to creating not one- but two-dimensional arrays (aka matrices):"
   ]
  },
  {
   "cell_type": "code",
   "execution_count": 15,
   "metadata": {},
   "outputs": [
    {
     "data": {
      "text/plain": [
       "array([[1, 2, 3],\n",
       "       [4, 5, 6]])"
      ]
     },
     "execution_count": 15,
     "metadata": {},
     "output_type": "execute_result"
    }
   ],
   "source": [
    "M = np.array([[1,2,3], [4,5,6]])\n",
    "M"
   ]
  },
  {
   "cell_type": "code",
   "execution_count": 16,
   "metadata": {},
   "outputs": [
    {
     "data": {
      "text/plain": [
       "(2, 3)"
      ]
     },
     "execution_count": 16,
     "metadata": {},
     "output_type": "execute_result"
    }
   ],
   "source": [
    "np.shape(M)"
   ]
  },
  {
   "cell_type": "markdown",
   "metadata": {},
   "source": [
    "NumPy contains useful functions for creating identity matrices of a specified size:"
   ]
  },
  {
   "cell_type": "markdown",
   "metadata": {},
   "source": [
    "h. Creating an identity matrix: np.eye()"
   ]
  },
  {
   "cell_type": "code",
   "execution_count": 17,
   "metadata": {},
   "outputs": [
    {
     "data": {
      "text/plain": [
       "array([[1., 0., 0., 0., 0.],\n",
       "       [0., 1., 0., 0., 0.],\n",
       "       [0., 0., 1., 0., 0.],\n",
       "       [0., 0., 0., 1., 0.],\n",
       "       [0., 0., 0., 0., 1.]])"
      ]
     },
     "execution_count": 17,
     "metadata": {},
     "output_type": "execute_result"
    }
   ],
   "source": [
    "np.eye(5)"
   ]
  },
  {
   "cell_type": "code",
   "execution_count": 18,
   "metadata": {},
   "outputs": [
    {
     "data": {
      "text/plain": [
       "array([[5., 0., 0.],\n",
       "       [0., 5., 0.],\n",
       "       [0., 0., 5.]])"
      ]
     },
     "execution_count": 18,
     "metadata": {},
     "output_type": "execute_result"
    }
   ],
   "source": [
    "#check your intuition: what will be the output after running this cell?\n",
    "A = np.eye(3)\n",
    "B = 4*np.eye(3)\n",
    "A+B"
   ]
  },
  {
   "cell_type": "markdown",
   "metadata": {},
   "source": [
    "i. A small challenge: matrix transformation and random matrix generation"
   ]
  },
  {
   "cell_type": "markdown",
   "metadata": {},
   "source": [
    "Using the matrix M below and the function np.triu(). Inspect the documentation by running the command np.triu? in the cell below. Create a matrix N which is identical to M except in the lower triangle (i.e., all the cells below the diagonal). The lower triangle should be filled with zeros."
   ]
  },
  {
   "cell_type": "code",
   "execution_count": 19,
   "metadata": {},
   "outputs": [
    {
     "name": "stdout",
     "output_type": "stream",
     "text": [
      "\u001b[0;31mSignature:\u001b[0m       \u001b[0mnp\u001b[0m\u001b[0;34m.\u001b[0m\u001b[0mtriu\u001b[0m\u001b[0;34m(\u001b[0m\u001b[0mm\u001b[0m\u001b[0;34m,\u001b[0m \u001b[0mk\u001b[0m\u001b[0;34m=\u001b[0m\u001b[0;36m0\u001b[0m\u001b[0;34m)\u001b[0m\u001b[0;34m\u001b[0m\u001b[0;34m\u001b[0m\u001b[0m\n",
      "\u001b[0;31mCall signature:\u001b[0m  \u001b[0mnp\u001b[0m\u001b[0;34m.\u001b[0m\u001b[0mtriu\u001b[0m\u001b[0;34m(\u001b[0m\u001b[0;34m*\u001b[0m\u001b[0margs\u001b[0m\u001b[0;34m,\u001b[0m \u001b[0;34m**\u001b[0m\u001b[0mkwargs\u001b[0m\u001b[0;34m)\u001b[0m\u001b[0;34m\u001b[0m\u001b[0;34m\u001b[0m\u001b[0m\n",
      "\u001b[0;31mType:\u001b[0m            _ArrayFunctionDispatcher\n",
      "\u001b[0;31mString form:\u001b[0m     <function triu at 0x7f596418ff60>\n",
      "\u001b[0;31mFile:\u001b[0m            /home/linuxbrew/.linuxbrew/Cellar/python@3.11/3.11.5/lib/python3.11/site-packages/numpy/lib/twodim_base.py\n",
      "\u001b[0;31mDocstring:\u001b[0m      \n",
      "Upper triangle of an array.\n",
      "\n",
      "Return a copy of an array with the elements below the `k`-th diagonal\n",
      "zeroed. For arrays with ``ndim`` exceeding 2, `triu` will apply to the\n",
      "final two axes.\n",
      "\n",
      "Please refer to the documentation for `tril` for further details.\n",
      "\n",
      "See Also\n",
      "--------\n",
      "tril : lower triangle of an array\n",
      "\n",
      "Examples\n",
      "--------\n",
      ">>> np.triu([[1,2,3],[4,5,6],[7,8,9],[10,11,12]], -1)\n",
      "array([[ 1,  2,  3],\n",
      "       [ 4,  5,  6],\n",
      "       [ 0,  8,  9],\n",
      "       [ 0,  0, 12]])\n",
      "\n",
      ">>> np.triu(np.arange(3*4*5).reshape(3, 4, 5))\n",
      "array([[[ 0,  1,  2,  3,  4],\n",
      "        [ 0,  6,  7,  8,  9],\n",
      "        [ 0,  0, 12, 13, 14],\n",
      "        [ 0,  0,  0, 18, 19]],\n",
      "       [[20, 21, 22, 23, 24],\n",
      "        [ 0, 26, 27, 28, 29],\n",
      "        [ 0,  0, 32, 33, 34],\n",
      "        [ 0,  0,  0, 38, 39]],\n",
      "       [[40, 41, 42, 43, 44],\n",
      "        [ 0, 46, 47, 48, 49],\n",
      "        [ 0,  0, 52, 53, 54],\n",
      "        [ 0,  0,  0, 58, 59]]])\n",
      "\u001b[0;31mClass docstring:\u001b[0m\n",
      "Class to wrap functions with checks for __array_function__ overrides.\n",
      "\n",
      "All arguments are required, and can only be passed by position.\n",
      "\n",
      "Parameters\n",
      "----------\n",
      "dispatcher : function or None\n",
      "    The dispatcher function that returns a single sequence-like object\n",
      "    of all arguments relevant.  It must have the same signature (except\n",
      "    the default values) as the actual implementation.\n",
      "    If ``None``, this is a ``like=`` dispatcher and the\n",
      "    ``_ArrayFunctionDispatcher`` must be called with ``like`` as the\n",
      "    first (additional and positional) argument.\n",
      "implementation : function\n",
      "    Function that implements the operation on NumPy arrays without\n",
      "    overrides.  Arguments passed calling the ``_ArrayFunctionDispatcher``\n",
      "    will be forwarded to this (and the ``dispatcher``) as if using\n",
      "    ``*args, **kwargs``.\n",
      "\n",
      "Attributes\n",
      "----------\n",
      "_implementation : function\n",
      "    The original implementation passed in."
     ]
    }
   ],
   "source": [
    "np.triu?\n",
    "#documentation says to look at tril"
   ]
  },
  {
   "cell_type": "code",
   "execution_count": 20,
   "metadata": {},
   "outputs": [
    {
     "name": "stdout",
     "output_type": "stream",
     "text": [
      "M=\n",
      " [[0.72 0.5  0.96 0.15 0.36]\n",
      " [0.46 0.75 0.48 0.72 0.85]\n",
      " [0.86 0.65 0.17 0.92 0.03]\n",
      " [0.45 0.33 0.7  0.87 0.77]\n",
      " [0.59 0.88 0.98 0.02 0.52]]\n",
      "N=\n",
      " [[0.72 0.5  0.96 0.15 0.36]\n",
      " [0.46 0.75 0.48 0.72 0.85]\n",
      " [0.   0.65 0.17 0.92 0.03]\n",
      " [0.   0.   0.7  0.87 0.77]\n",
      " [0.   0.   0.   0.02 0.52]]\n"
     ]
    }
   ],
   "source": [
    "M = np.round(np.random.rand(5,5),2)\n",
    "print(\"M=\\n\", M)\n",
    "N=np.triu(M, k=-1)\n",
    "print(\"N=\\n\", N)"
   ]
  },
  {
   "cell_type": "markdown",
   "metadata": {},
   "source": [
    "Using the code provided above for generating the matrix M, try to figure out how to create a random matrix with 13 rows and 3 columns."
   ]
  },
  {
   "cell_type": "code",
   "execution_count": 21,
   "metadata": {},
   "outputs": [
    {
     "name": "stdout",
     "output_type": "stream",
     "text": [
      "M=\n",
      " [[0.62 0.75 0.98]\n",
      " [0.96 0.09 0.77]\n",
      " [0.13 0.1  0.7 ]\n",
      " [0.39 0.79 0.76]\n",
      " [0.97 0.48 0.85]\n",
      " [0.99 0.57 0.43]\n",
      " [0.3  0.22 0.56]\n",
      " [0.53 0.57 0.34]\n",
      " [0.67 0.57 0.54]\n",
      " [0.96 0.01 0.44]\n",
      " [0.01 0.73 0.43]\n",
      " [0.46 0.34 0.79]\n",
      " [0.22 0.85 0.85]]\n"
     ]
    }
   ],
   "source": [
    "M = np.round(np.random.rand(13,3),2)\n",
    "print(\"M=\\n\", M)"
   ]
  },
  {
   "cell_type": "markdown",
   "metadata": {},
   "source": [
    "j. Indexing and slicing arrays"
   ]
  },
  {
   "cell_type": "markdown",
   "metadata": {},
   "source": [
    "Here is how to call an element of a 2D array by its location (i.e., its row index and column index):"
   ]
  },
  {
   "cell_type": "code",
   "execution_count": 22,
   "metadata": {},
   "outputs": [
    {
     "data": {
      "text/plain": [
       "0.76"
      ]
     },
     "execution_count": 22,
     "metadata": {},
     "output_type": "execute_result"
    }
   ],
   "source": [
    "M[3,2]\n",
    "# M[::]\n",
    "# M[1,:]"
   ]
  },
  {
   "cell_type": "markdown",
   "metadata": {},
   "source": [
    "# test your intuition: what would you expect this code to return?\n",
    "M[3:,2]\n",
    "#if the format is [row, column] then we are pulling out the \n",
    "#contents of the third row onward to the last row and then the\n",
    "#contents of the second columnfor every single one of those rows"
   ]
  },
  {
   "cell_type": "code",
   "execution_count": 23,
   "metadata": {},
   "outputs": [
    {
     "data": {
      "text/plain": [
       "array([0.76, 0.85, 0.43, 0.56, 0.34, 0.54, 0.44, 0.43, 0.79, 0.85])"
      ]
     },
     "execution_count": 23,
     "metadata": {},
     "output_type": "execute_result"
    }
   ],
   "source": [
    "M[3:,2]"
   ]
  },
  {
   "cell_type": "markdown",
   "metadata": {},
   "source": [
    "k. Evaluating a Boolean condition"
   ]
  },
  {
   "cell_type": "markdown",
   "metadata": {},
   "source": [
    "In real-life data tasks, you will often have to compute the boolean (True/False) value of some statement, for all entries in a list, or for a matrix column (essentially, a list), or for the entire matrix.\n",
    "In other words, we may want to formulate a condition -- think of it as a test -- and run a computation that returns True or False depending on whether the test is passed or failed by a particular value in a data structure.\n",
    "\n",
    "For example, our test may be something like \"the value is greater than 0.5\", and we would like to know if this is true or false for each of the values in a list. Here's how to compute a list of values that the condition test takes for each value of a given list:"
   ]
  },
  {
   "cell_type": "code",
   "execution_count": 24,
   "metadata": {},
   "outputs": [
    {
     "name": "stdout",
     "output_type": "stream",
     "text": [
      "[[0.55977334 0.60548959 0.7243904  0.30336585 0.30142081 0.46819001\n",
      "  0.48436844 0.18029871 0.48484914 0.10348173 0.08193181 0.55084322\n",
      "  0.59090739 0.42834928 0.17317928 0.30923951 0.16817939 0.52980799\n",
      "  0.39887507 0.42579072]]\n"
     ]
    },
    {
     "data": {
      "text/plain": [
       "numpy.ndarray"
      ]
     },
     "execution_count": 24,
     "metadata": {},
     "output_type": "execute_result"
    }
   ],
   "source": [
    "g = np.random.rand(1, 20) #first, create the list \n",
    "print(g)\n",
    "type(g) #the datatype is a numpy array, not a list"
   ]
  },
  {
   "cell_type": "code",
   "execution_count": 25,
   "metadata": {},
   "outputs": [
    {
     "name": "stdout",
     "output_type": "stream",
     "text": [
      "[[ True  True  True False False False False False False False False  True\n",
      "   True False False False False  True False False]]\n"
     ]
    }
   ],
   "source": [
    "is_greater = g>0.5\n",
    "print(is_greater)"
   ]
  },
  {
   "cell_type": "code",
   "execution_count": 26,
   "metadata": {},
   "outputs": [
    {
     "name": "stdout",
     "output_type": "stream",
     "text": [
      "[[0.62 0.75 0.98]\n",
      " [0.96 0.09 0.77]\n",
      " [0.13 0.1  0.7 ]\n",
      " [0.39 0.79 0.76]\n",
      " [0.97 0.48 0.85]\n",
      " [0.99 0.57 0.43]\n",
      " [0.3  0.22 0.56]\n",
      " [0.53 0.57 0.34]\n",
      " [0.67 0.57 0.54]\n",
      " [0.96 0.01 0.44]\n",
      " [0.01 0.73 0.43]\n",
      " [0.46 0.34 0.79]\n",
      " [0.22 0.85 0.85]]\n"
     ]
    }
   ],
   "source": [
    "# Let's print the matrix M again so we can glance at it for our next exercise\n",
    "print(M)"
   ]
  },
  {
   "cell_type": "code",
   "execution_count": 27,
   "metadata": {},
   "outputs": [
    {
     "data": {
      "text/plain": [
       "array([ True, False, False,  True, False,  True, False,  True,  True,\n",
       "       False,  True, False,  True])"
      ]
     },
     "execution_count": 27,
     "metadata": {},
     "output_type": "execute_result"
    }
   ],
   "source": [
    "# What would you expect to see once you run the code below?\n",
    "c_is_greater = M[:,1]>0.5\n",
    "c_is_greater"
   ]
  },
  {
   "cell_type": "markdown",
   "metadata": {},
   "source": [
    "L . NumPy Functions np.any(), np.unique()"
   ]
  },
  {
   "cell_type": "markdown",
   "metadata": {},
   "source": [
    "We can use np.any() to determine if there is any entry in column 1 that is smaller than 0.1:"
   ]
  },
  {
   "cell_type": "code",
   "execution_count": 28,
   "metadata": {},
   "outputs": [
    {
     "data": {
      "text/plain": [
       "True"
      ]
     },
     "execution_count": 28,
     "metadata": {},
     "output_type": "execute_result"
    }
   ],
   "source": [
    "c_is_smaller = M[:,1]<0.1 #this means, like at every element in column 1\n",
    "np.any(c_is_smaller) #this means, after scanning the entirety of column 1,there exists an entry/element/item that \n",
    "#is smaller than 0.1\""
   ]
  },
  {
   "cell_type": "markdown",
   "metadata": {},
   "source": [
    "A small challenge:\n",
    "You have birthday data for a cohort of 100 people all born in 1990. Given the one-dimensional array of birthdays random_bdays generated below, figure out if there exists a pair of people who share a birthday.\n",
    "\n",
    "Tip: you may find the function np.unique() useful. Feel free to read up on it by running the command np.unique? in a new cell."
   ]
  },
  {
   "cell_type": "code",
   "execution_count": 29,
   "metadata": {},
   "outputs": [
    {
     "data": {
      "text/plain": [
       "True"
      ]
     },
     "execution_count": 29,
     "metadata": {},
     "output_type": "execute_result"
    }
   ],
   "source": [
    "# do not edit this code:\n",
    "random_nums = np.random.choice(365, size = 100)\n",
    "random_bdays = np.datetime64('1990-01-01') + random_nums\n",
    "\n",
    "## your code here:\n",
    "unique_bdays, counts= np.unique(random_bdays, return_counts=True)\n",
    "#this means, in sorted order, create a new array called unique_bdays\n",
    "#that consists of unique entries. Create a second variable called counts,\n",
    "#that stores all of the occurances of each item. This code uses tuple unpacking\n",
    "duplicates_exist = np.any(counts>1)\n",
    "duplicates_exist"
   ]
  },
  {
   "cell_type": "markdown",
   "metadata": {},
   "source": [
    "Part 2. Pandas DataFrames"
   ]
  },
  {
   "cell_type": "markdown",
   "metadata": {},
   "source": [
    "a. Creating a DataFrame: two (of the many) ways\n",
    "The code cells below demonstrate how we can create Pandas DataFrames from scratch: from a list of lists, and from a dictionary. First, the cell below creates a DataFrame from a list containing phone numbers and their country codes. The DataFrame is named df. Run the cell below to inspect the DataFrame df that was created."
   ]
  },
  {
   "cell_type": "code",
   "execution_count": 30,
   "metadata": {},
   "outputs": [
    {
     "data": {
      "text/html": [
       "<div>\n",
       "<style scoped>\n",
       "    .dataframe tbody tr th:only-of-type {\n",
       "        vertical-align: middle;\n",
       "    }\n",
       "\n",
       "    .dataframe tbody tr th {\n",
       "        vertical-align: top;\n",
       "    }\n",
       "\n",
       "    .dataframe thead th {\n",
       "        text-align: right;\n",
       "    }\n",
       "</style>\n",
       "<table border=\"1\" class=\"dataframe\">\n",
       "  <thead>\n",
       "    <tr style=\"text-align: right;\">\n",
       "      <th></th>\n",
       "      <th>country_code</th>\n",
       "      <th>phone</th>\n",
       "    </tr>\n",
       "  </thead>\n",
       "  <tbody>\n",
       "    <tr>\n",
       "      <th>0</th>\n",
       "      <td>+1</td>\n",
       "      <td>(929)-000-0000</td>\n",
       "    </tr>\n",
       "    <tr>\n",
       "      <th>1</th>\n",
       "      <td>+34</td>\n",
       "      <td>(917)-000-0000</td>\n",
       "    </tr>\n",
       "    <tr>\n",
       "      <th>2</th>\n",
       "      <td>+7</td>\n",
       "      <td>(470)-000-0000</td>\n",
       "    </tr>\n",
       "  </tbody>\n",
       "</table>\n",
       "</div>"
      ],
      "text/plain": [
       "  country_code           phone\n",
       "0           +1  (929)-000-0000\n",
       "1          +34  (917)-000-0000\n",
       "2           +7  (470)-000-0000"
      ]
     },
     "execution_count": 30,
     "metadata": {},
     "output_type": "execute_result"
    }
   ],
   "source": [
    "my_list = [['+1', '(929)-000-0000'], ['+34', '(917)-000-0000'], ['+7', '(470)-000-0000']]\n",
    "df = pd.DataFrame(my_list, columns = ['country_code', 'phone'])\n",
    "df"
   ]
  },
  {
   "cell_type": "markdown",
   "metadata": {},
   "source": [
    "Second, the cell below creates a DataFrame from a dictionary that contains the same information as the list above. The dictionary contains phone numbers and their country codes. Run the cell below to inspect the DataFrame df_from_dict that was created from the dictionary. Notice that both DataFrames df and df_from_dict contain the same values."
   ]
  },
  {
   "cell_type": "code",
   "execution_count": 31,
   "metadata": {},
   "outputs": [
    {
     "data": {
      "text/html": [
       "<div>\n",
       "<style scoped>\n",
       "    .dataframe tbody tr th:only-of-type {\n",
       "        vertical-align: middle;\n",
       "    }\n",
       "\n",
       "    .dataframe tbody tr th {\n",
       "        vertical-align: top;\n",
       "    }\n",
       "\n",
       "    .dataframe thead th {\n",
       "        text-align: right;\n",
       "    }\n",
       "</style>\n",
       "<table border=\"1\" class=\"dataframe\">\n",
       "  <thead>\n",
       "    <tr style=\"text-align: right;\">\n",
       "      <th></th>\n",
       "      <th>country_code</th>\n",
       "      <th>phone</th>\n",
       "    </tr>\n",
       "  </thead>\n",
       "  <tbody>\n",
       "    <tr>\n",
       "      <th>0</th>\n",
       "      <td>+1</td>\n",
       "      <td>(929)-000-0000</td>\n",
       "    </tr>\n",
       "    <tr>\n",
       "      <th>1</th>\n",
       "      <td>+34</td>\n",
       "      <td>(917)-000-0000</td>\n",
       "    </tr>\n",
       "    <tr>\n",
       "      <th>2</th>\n",
       "      <td>+7</td>\n",
       "      <td>(470)-000-0000</td>\n",
       "    </tr>\n",
       "  </tbody>\n",
       "</table>\n",
       "</div>"
      ],
      "text/plain": [
       "  country_code           phone\n",
       "0           +1  (929)-000-0000\n",
       "1          +34  (917)-000-0000\n",
       "2           +7  (470)-000-0000"
      ]
     },
     "execution_count": 31,
     "metadata": {},
     "output_type": "execute_result"
    }
   ],
   "source": [
    "my_dict = {'country_code': ['+1', '+34', '+7'], 'phone':['(929)-000-0000', '(917)-000-0000', '(470)-000-0000']}\n",
    "df_from_dict = pd.DataFrame(my_dict)\n",
    "df_from_dict"
   ]
  },
  {
   "cell_type": "markdown",
   "metadata": {},
   "source": [
    "b. Adding a column to a DataFrame object\n",
    "We are going to continue working with the DataFrame df that was created above. In the code cell below, we add a new column of values to DataFrame df. Run the cell and inspect the DataFrame to see the new column that was added."
   ]
  },
  {
   "cell_type": "code",
   "execution_count": 32,
   "metadata": {},
   "outputs": [
    {
     "data": {
      "text/html": [
       "<div>\n",
       "<style scoped>\n",
       "    .dataframe tbody tr th:only-of-type {\n",
       "        vertical-align: middle;\n",
       "    }\n",
       "\n",
       "    .dataframe tbody tr th {\n",
       "        vertical-align: top;\n",
       "    }\n",
       "\n",
       "    .dataframe thead th {\n",
       "        text-align: right;\n",
       "    }\n",
       "</style>\n",
       "<table border=\"1\" class=\"dataframe\">\n",
       "  <thead>\n",
       "    <tr style=\"text-align: right;\">\n",
       "      <th></th>\n",
       "      <th>country_code</th>\n",
       "      <th>phone</th>\n",
       "      <th>grade</th>\n",
       "    </tr>\n",
       "  </thead>\n",
       "  <tbody>\n",
       "    <tr>\n",
       "      <th>0</th>\n",
       "      <td>+1</td>\n",
       "      <td>(929)-000-0000</td>\n",
       "      <td>A</td>\n",
       "    </tr>\n",
       "    <tr>\n",
       "      <th>1</th>\n",
       "      <td>+34</td>\n",
       "      <td>(917)-000-0000</td>\n",
       "      <td>B</td>\n",
       "    </tr>\n",
       "    <tr>\n",
       "      <th>2</th>\n",
       "      <td>+7</td>\n",
       "      <td>(470)-000-0000</td>\n",
       "      <td>A</td>\n",
       "    </tr>\n",
       "  </tbody>\n",
       "</table>\n",
       "</div>"
      ],
      "text/plain": [
       "  country_code           phone grade\n",
       "0           +1  (929)-000-0000     A\n",
       "1          +34  (917)-000-0000     B\n",
       "2           +7  (470)-000-0000     A"
      ]
     },
     "execution_count": 32,
     "metadata": {},
     "output_type": "execute_result"
    }
   ],
   "source": [
    "df['grade']= ['A','B','A']\n",
    "df"
   ]
  },
  {
   "cell_type": "markdown",
   "metadata": {},
   "source": [
    "c. Sorting the DataFrame by values in a specific column: df.sort_values()"
   ]
  },
  {
   "cell_type": "code",
   "execution_count": 33,
   "metadata": {},
   "outputs": [
    {
     "data": {
      "text/html": [
       "<div>\n",
       "<style scoped>\n",
       "    .dataframe tbody tr th:only-of-type {\n",
       "        vertical-align: middle;\n",
       "    }\n",
       "\n",
       "    .dataframe tbody tr th {\n",
       "        vertical-align: top;\n",
       "    }\n",
       "\n",
       "    .dataframe thead th {\n",
       "        text-align: right;\n",
       "    }\n",
       "</style>\n",
       "<table border=\"1\" class=\"dataframe\">\n",
       "  <thead>\n",
       "    <tr style=\"text-align: right;\">\n",
       "      <th></th>\n",
       "      <th>country_code</th>\n",
       "      <th>phone</th>\n",
       "      <th>grade</th>\n",
       "    </tr>\n",
       "  </thead>\n",
       "  <tbody>\n",
       "    <tr>\n",
       "      <th>0</th>\n",
       "      <td>+1</td>\n",
       "      <td>(929)-000-0000</td>\n",
       "      <td>A</td>\n",
       "    </tr>\n",
       "    <tr>\n",
       "      <th>2</th>\n",
       "      <td>+7</td>\n",
       "      <td>(470)-000-0000</td>\n",
       "      <td>A</td>\n",
       "    </tr>\n",
       "    <tr>\n",
       "      <th>1</th>\n",
       "      <td>+34</td>\n",
       "      <td>(917)-000-0000</td>\n",
       "      <td>B</td>\n",
       "    </tr>\n",
       "  </tbody>\n",
       "</table>\n",
       "</div>"
      ],
      "text/plain": [
       "  country_code           phone grade\n",
       "0           +1  (929)-000-0000     A\n",
       "2           +7  (470)-000-0000     A\n",
       "1          +34  (917)-000-0000     B"
      ]
     },
     "execution_count": 33,
     "metadata": {},
     "output_type": "execute_result"
    }
   ],
   "source": [
    "df = df.sort_values(['grade'])\n",
    "df"
   ]
  },
  {
   "cell_type": "markdown",
   "metadata": {},
   "source": [
    "d. Combining multiple DataFrames with pd.concat() and pd.merge() and renaming columns with df.rename()"
   ]
  },
  {
   "cell_type": "markdown",
   "metadata": {},
   "source": [
    "In real life settings, you will often need to combine separate sets of related data.\n",
    "To illustrate, let's create a new DataFrame. The code cell below creates a new DataFrame df2 that also contains phone numbers, their country codes and a grade. Run the cell and inspect the new DataFrame that was created."
   ]
  },
  {
   "cell_type": "code",
   "execution_count": 34,
   "metadata": {},
   "outputs": [
    {
     "data": {
      "text/html": [
       "<div>\n",
       "<style scoped>\n",
       "    .dataframe tbody tr th:only-of-type {\n",
       "        vertical-align: middle;\n",
       "    }\n",
       "\n",
       "    .dataframe tbody tr th {\n",
       "        vertical-align: top;\n",
       "    }\n",
       "\n",
       "    .dataframe thead th {\n",
       "        text-align: right;\n",
       "    }\n",
       "</style>\n",
       "<table border=\"1\" class=\"dataframe\">\n",
       "  <thead>\n",
       "    <tr style=\"text-align: right;\">\n",
       "      <th></th>\n",
       "      <th>country</th>\n",
       "      <th>grade</th>\n",
       "      <th>phone</th>\n",
       "    </tr>\n",
       "  </thead>\n",
       "  <tbody>\n",
       "    <tr>\n",
       "      <th>0</th>\n",
       "      <td>+32</td>\n",
       "      <td>B</td>\n",
       "      <td>(874)-444-0000</td>\n",
       "    </tr>\n",
       "    <tr>\n",
       "      <th>1</th>\n",
       "      <td>+81</td>\n",
       "      <td>B+</td>\n",
       "      <td>(313)-003-1000</td>\n",
       "    </tr>\n",
       "    <tr>\n",
       "      <th>2</th>\n",
       "      <td>+11</td>\n",
       "      <td>A</td>\n",
       "      <td>(990)-006-0660</td>\n",
       "    </tr>\n",
       "  </tbody>\n",
       "</table>\n",
       "</div>"
      ],
      "text/plain": [
       "  country grade           phone\n",
       "0     +32     B  (874)-444-0000\n",
       "1     +81    B+  (313)-003-1000\n",
       "2     +11     A  (990)-006-0660"
      ]
     },
     "execution_count": 34,
     "metadata": {},
     "output_type": "execute_result"
    }
   ],
   "source": [
    "my_dict2 = {'country': ['+32', '+81', '+11'], 'grade':['B', 'B+', 'A'], 'phone':['(874)-444-0000', '(313)-003-1000', '(990)-006-0660']}\n",
    "df2 = pd.DataFrame(my_dict2)\n",
    "df2"
   ]
  },
  {
   "cell_type": "markdown",
   "metadata": {},
   "source": [
    "The code cell below uses the Pandas pd.concat() function to append the second DataFrame to the first one. It saves the newly formed DataFrame to variable df_concat. Note that the pd.concat() function will not change the values in the original DataFrames."
   ]
  },
  {
   "cell_type": "code",
   "execution_count": 35,
   "metadata": {},
   "outputs": [
    {
     "data": {
      "text/html": [
       "<div>\n",
       "<style scoped>\n",
       "    .dataframe tbody tr th:only-of-type {\n",
       "        vertical-align: middle;\n",
       "    }\n",
       "\n",
       "    .dataframe tbody tr th {\n",
       "        vertical-align: top;\n",
       "    }\n",
       "\n",
       "    .dataframe thead th {\n",
       "        text-align: right;\n",
       "    }\n",
       "</style>\n",
       "<table border=\"1\" class=\"dataframe\">\n",
       "  <thead>\n",
       "    <tr style=\"text-align: right;\">\n",
       "      <th></th>\n",
       "      <th>country_code</th>\n",
       "      <th>phone</th>\n",
       "      <th>grade</th>\n",
       "      <th>country</th>\n",
       "    </tr>\n",
       "  </thead>\n",
       "  <tbody>\n",
       "    <tr>\n",
       "      <th>0</th>\n",
       "      <td>+1</td>\n",
       "      <td>(929)-000-0000</td>\n",
       "      <td>A</td>\n",
       "      <td>NaN</td>\n",
       "    </tr>\n",
       "    <tr>\n",
       "      <th>2</th>\n",
       "      <td>+7</td>\n",
       "      <td>(470)-000-0000</td>\n",
       "      <td>A</td>\n",
       "      <td>NaN</td>\n",
       "    </tr>\n",
       "    <tr>\n",
       "      <th>1</th>\n",
       "      <td>+34</td>\n",
       "      <td>(917)-000-0000</td>\n",
       "      <td>B</td>\n",
       "      <td>NaN</td>\n",
       "    </tr>\n",
       "    <tr>\n",
       "      <th>0</th>\n",
       "      <td>NaN</td>\n",
       "      <td>(874)-444-0000</td>\n",
       "      <td>B</td>\n",
       "      <td>+32</td>\n",
       "    </tr>\n",
       "    <tr>\n",
       "      <th>1</th>\n",
       "      <td>NaN</td>\n",
       "      <td>(313)-003-1000</td>\n",
       "      <td>B+</td>\n",
       "      <td>+81</td>\n",
       "    </tr>\n",
       "    <tr>\n",
       "      <th>2</th>\n",
       "      <td>NaN</td>\n",
       "      <td>(990)-006-0660</td>\n",
       "      <td>A</td>\n",
       "      <td>+11</td>\n",
       "    </tr>\n",
       "  </tbody>\n",
       "</table>\n",
       "</div>"
      ],
      "text/plain": [
       "  country_code           phone grade country\n",
       "0           +1  (929)-000-0000     A     NaN\n",
       "2           +7  (470)-000-0000     A     NaN\n",
       "1          +34  (917)-000-0000     B     NaN\n",
       "0          NaN  (874)-444-0000     B     +32\n",
       "1          NaN  (313)-003-1000    B+     +81\n",
       "2          NaN  (990)-006-0660     A     +11"
      ]
     },
     "execution_count": 35,
     "metadata": {},
     "output_type": "execute_result"
    }
   ],
   "source": [
    "df_concat = pd.concat([df,df2])\n",
    "df_concat"
   ]
  },
  {
   "cell_type": "markdown",
   "metadata": {},
   "source": [
    "Notice that the new DataFrame contains redundancy caused by the different spelling of the column names that contain the country code in the two original DataFrames. This can be easily fixed. The code cell below changes the name of the column in DataFrame df2 to be consistent with the name of the column in DataFrame df."
   ]
  },
  {
   "cell_type": "code",
   "execution_count": 36,
   "metadata": {},
   "outputs": [
    {
     "data": {
      "text/html": [
       "<div>\n",
       "<style scoped>\n",
       "    .dataframe tbody tr th:only-of-type {\n",
       "        vertical-align: middle;\n",
       "    }\n",
       "\n",
       "    .dataframe tbody tr th {\n",
       "        vertical-align: top;\n",
       "    }\n",
       "\n",
       "    .dataframe thead th {\n",
       "        text-align: right;\n",
       "    }\n",
       "</style>\n",
       "<table border=\"1\" class=\"dataframe\">\n",
       "  <thead>\n",
       "    <tr style=\"text-align: right;\">\n",
       "      <th></th>\n",
       "      <th>country_code</th>\n",
       "      <th>grade</th>\n",
       "      <th>phone</th>\n",
       "    </tr>\n",
       "  </thead>\n",
       "  <tbody>\n",
       "    <tr>\n",
       "      <th>0</th>\n",
       "      <td>+32</td>\n",
       "      <td>B</td>\n",
       "      <td>(874)-444-0000</td>\n",
       "    </tr>\n",
       "    <tr>\n",
       "      <th>1</th>\n",
       "      <td>+81</td>\n",
       "      <td>B+</td>\n",
       "      <td>(313)-003-1000</td>\n",
       "    </tr>\n",
       "    <tr>\n",
       "      <th>2</th>\n",
       "      <td>+11</td>\n",
       "      <td>A</td>\n",
       "      <td>(990)-006-0660</td>\n",
       "    </tr>\n",
       "  </tbody>\n",
       "</table>\n",
       "</div>"
      ],
      "text/plain": [
       "  country_code grade           phone\n",
       "0          +32     B  (874)-444-0000\n",
       "1          +81    B+  (313)-003-1000\n",
       "2          +11     A  (990)-006-0660"
      ]
     },
     "execution_count": 36,
     "metadata": {},
     "output_type": "execute_result"
    }
   ],
   "source": [
    "df2 = df2.rename(columns={'country':'country_code'})\n",
    "df2"
   ]
  },
  {
   "cell_type": "markdown",
   "metadata": {},
   "source": [
    "Task: In the cell below, run the pd.concat() function again to concatenate DataFrames df and df2 and save the resulting DataFrame to variable df_concat. Run the cell and inpect the results."
   ]
  },
  {
   "cell_type": "code",
   "execution_count": 37,
   "metadata": {},
   "outputs": [
    {
     "data": {
      "text/html": [
       "<div>\n",
       "<style scoped>\n",
       "    .dataframe tbody tr th:only-of-type {\n",
       "        vertical-align: middle;\n",
       "    }\n",
       "\n",
       "    .dataframe tbody tr th {\n",
       "        vertical-align: top;\n",
       "    }\n",
       "\n",
       "    .dataframe thead th {\n",
       "        text-align: right;\n",
       "    }\n",
       "</style>\n",
       "<table border=\"1\" class=\"dataframe\">\n",
       "  <thead>\n",
       "    <tr style=\"text-align: right;\">\n",
       "      <th></th>\n",
       "      <th>country_code</th>\n",
       "      <th>phone</th>\n",
       "      <th>grade</th>\n",
       "    </tr>\n",
       "  </thead>\n",
       "  <tbody>\n",
       "    <tr>\n",
       "      <th>0</th>\n",
       "      <td>+1</td>\n",
       "      <td>(929)-000-0000</td>\n",
       "      <td>A</td>\n",
       "    </tr>\n",
       "    <tr>\n",
       "      <th>2</th>\n",
       "      <td>+7</td>\n",
       "      <td>(470)-000-0000</td>\n",
       "      <td>A</td>\n",
       "    </tr>\n",
       "    <tr>\n",
       "      <th>1</th>\n",
       "      <td>+34</td>\n",
       "      <td>(917)-000-0000</td>\n",
       "      <td>B</td>\n",
       "    </tr>\n",
       "    <tr>\n",
       "      <th>0</th>\n",
       "      <td>+32</td>\n",
       "      <td>(874)-444-0000</td>\n",
       "      <td>B</td>\n",
       "    </tr>\n",
       "    <tr>\n",
       "      <th>1</th>\n",
       "      <td>+81</td>\n",
       "      <td>(313)-003-1000</td>\n",
       "      <td>B+</td>\n",
       "    </tr>\n",
       "    <tr>\n",
       "      <th>2</th>\n",
       "      <td>+11</td>\n",
       "      <td>(990)-006-0660</td>\n",
       "      <td>A</td>\n",
       "    </tr>\n",
       "  </tbody>\n",
       "</table>\n",
       "</div>"
      ],
      "text/plain": [
       "  country_code           phone grade\n",
       "0           +1  (929)-000-0000     A\n",
       "2           +7  (470)-000-0000     A\n",
       "1          +34  (917)-000-0000     B\n",
       "0          +32  (874)-444-0000     B\n",
       "1          +81  (313)-003-1000    B+\n",
       "2          +11  (990)-006-0660     A"
      ]
     },
     "execution_count": 37,
     "metadata": {},
     "output_type": "execute_result"
    }
   ],
   "source": [
    "df_concat=pd.concat([df, df2])\n",
    "df_concat"
   ]
  },
  {
   "cell_type": "markdown",
   "metadata": {},
   "source": [
    "One other problem is that the index has repeated values. This defeats the purpose of an index, and ought to be fixed. Let's try the concatenation again, this time adding reset_index() method to produce correct results:"
   ]
  },
  {
   "cell_type": "code",
   "execution_count": 38,
   "metadata": {},
   "outputs": [
    {
     "data": {
      "text/html": [
       "<div>\n",
       "<style scoped>\n",
       "    .dataframe tbody tr th:only-of-type {\n",
       "        vertical-align: middle;\n",
       "    }\n",
       "\n",
       "    .dataframe tbody tr th {\n",
       "        vertical-align: top;\n",
       "    }\n",
       "\n",
       "    .dataframe thead th {\n",
       "        text-align: right;\n",
       "    }\n",
       "</style>\n",
       "<table border=\"1\" class=\"dataframe\">\n",
       "  <thead>\n",
       "    <tr style=\"text-align: right;\">\n",
       "      <th></th>\n",
       "      <th>index</th>\n",
       "      <th>country_code</th>\n",
       "      <th>phone</th>\n",
       "      <th>grade</th>\n",
       "    </tr>\n",
       "  </thead>\n",
       "  <tbody>\n",
       "    <tr>\n",
       "      <th>0</th>\n",
       "      <td>0</td>\n",
       "      <td>+1</td>\n",
       "      <td>(929)-000-0000</td>\n",
       "      <td>A</td>\n",
       "    </tr>\n",
       "    <tr>\n",
       "      <th>1</th>\n",
       "      <td>2</td>\n",
       "      <td>+7</td>\n",
       "      <td>(470)-000-0000</td>\n",
       "      <td>A</td>\n",
       "    </tr>\n",
       "    <tr>\n",
       "      <th>2</th>\n",
       "      <td>1</td>\n",
       "      <td>+34</td>\n",
       "      <td>(917)-000-0000</td>\n",
       "      <td>B</td>\n",
       "    </tr>\n",
       "    <tr>\n",
       "      <th>3</th>\n",
       "      <td>0</td>\n",
       "      <td>+32</td>\n",
       "      <td>(874)-444-0000</td>\n",
       "      <td>B</td>\n",
       "    </tr>\n",
       "    <tr>\n",
       "      <th>4</th>\n",
       "      <td>1</td>\n",
       "      <td>+81</td>\n",
       "      <td>(313)-003-1000</td>\n",
       "      <td>B+</td>\n",
       "    </tr>\n",
       "    <tr>\n",
       "      <th>5</th>\n",
       "      <td>2</td>\n",
       "      <td>+11</td>\n",
       "      <td>(990)-006-0660</td>\n",
       "      <td>A</td>\n",
       "    </tr>\n",
       "  </tbody>\n",
       "</table>\n",
       "</div>"
      ],
      "text/plain": [
       "   index country_code           phone grade\n",
       "0      0           +1  (929)-000-0000     A\n",
       "1      2           +7  (470)-000-0000     A\n",
       "2      1          +34  (917)-000-0000     B\n",
       "3      0          +32  (874)-444-0000     B\n",
       "4      1          +81  (313)-003-1000    B+\n",
       "5      2          +11  (990)-006-0660     A"
      ]
     },
     "execution_count": 38,
     "metadata": {},
     "output_type": "execute_result"
    }
   ],
   "source": [
    "df_concat = pd.concat([df,df2]).reset_index()\n",
    "df_concat"
   ]
  },
  {
   "cell_type": "markdown",
   "metadata": {},
   "source": [
    "What if our task was to merge df2 with yet another dataset -- one that contains additional unique columns? Let's look at DataFrame df2 again:"
   ]
  },
  {
   "cell_type": "code",
   "execution_count": 39,
   "metadata": {},
   "outputs": [
    {
     "data": {
      "text/html": [
       "<div>\n",
       "<style scoped>\n",
       "    .dataframe tbody tr th:only-of-type {\n",
       "        vertical-align: middle;\n",
       "    }\n",
       "\n",
       "    .dataframe tbody tr th {\n",
       "        vertical-align: top;\n",
       "    }\n",
       "\n",
       "    .dataframe thead th {\n",
       "        text-align: right;\n",
       "    }\n",
       "</style>\n",
       "<table border=\"1\" class=\"dataframe\">\n",
       "  <thead>\n",
       "    <tr style=\"text-align: right;\">\n",
       "      <th></th>\n",
       "      <th>country_code</th>\n",
       "      <th>grade</th>\n",
       "      <th>phone</th>\n",
       "    </tr>\n",
       "  </thead>\n",
       "  <tbody>\n",
       "    <tr>\n",
       "      <th>0</th>\n",
       "      <td>+32</td>\n",
       "      <td>B</td>\n",
       "      <td>(874)-444-0000</td>\n",
       "    </tr>\n",
       "    <tr>\n",
       "      <th>1</th>\n",
       "      <td>+81</td>\n",
       "      <td>B+</td>\n",
       "      <td>(313)-003-1000</td>\n",
       "    </tr>\n",
       "    <tr>\n",
       "      <th>2</th>\n",
       "      <td>+11</td>\n",
       "      <td>A</td>\n",
       "      <td>(990)-006-0660</td>\n",
       "    </tr>\n",
       "  </tbody>\n",
       "</table>\n",
       "</div>"
      ],
      "text/plain": [
       "  country_code grade           phone\n",
       "0          +32     B  (874)-444-0000\n",
       "1          +81    B+  (313)-003-1000\n",
       "2          +11     A  (990)-006-0660"
      ]
     },
     "execution_count": 39,
     "metadata": {},
     "output_type": "execute_result"
    }
   ],
   "source": [
    "df2"
   ]
  },
  {
   "cell_type": "markdown",
   "metadata": {},
   "source": [
    "The code cell below creates a new DataFrame df3."
   ]
  },
  {
   "cell_type": "code",
   "execution_count": 40,
   "metadata": {},
   "outputs": [
    {
     "data": {
      "text/html": [
       "<div>\n",
       "<style scoped>\n",
       "    .dataframe tbody tr th:only-of-type {\n",
       "        vertical-align: middle;\n",
       "    }\n",
       "\n",
       "    .dataframe tbody tr th {\n",
       "        vertical-align: top;\n",
       "    }\n",
       "\n",
       "    .dataframe thead th {\n",
       "        text-align: right;\n",
       "    }\n",
       "</style>\n",
       "<table border=\"1\" class=\"dataframe\">\n",
       "  <thead>\n",
       "    <tr style=\"text-align: right;\">\n",
       "      <th></th>\n",
       "      <th>country_code</th>\n",
       "      <th>phone</th>\n",
       "      <th>grade</th>\n",
       "      <th>n_credits</th>\n",
       "    </tr>\n",
       "  </thead>\n",
       "  <tbody>\n",
       "    <tr>\n",
       "      <th>0</th>\n",
       "      <td>+32</td>\n",
       "      <td>(874)-444-0000</td>\n",
       "      <td>B</td>\n",
       "      <td>12</td>\n",
       "    </tr>\n",
       "    <tr>\n",
       "      <th>1</th>\n",
       "      <td>+44</td>\n",
       "      <td>(575)-755-1000</td>\n",
       "      <td>B+</td>\n",
       "      <td>3</td>\n",
       "    </tr>\n",
       "    <tr>\n",
       "      <th>2</th>\n",
       "      <td>+11</td>\n",
       "      <td>(990)-006-0660</td>\n",
       "      <td>A</td>\n",
       "      <td>9</td>\n",
       "    </tr>\n",
       "  </tbody>\n",
       "</table>\n",
       "</div>"
      ],
      "text/plain": [
       "  country_code           phone grade  n_credits\n",
       "0          +32  (874)-444-0000     B         12\n",
       "1          +44  (575)-755-1000    B+          3\n",
       "2          +11  (990)-006-0660     A          9"
      ]
     },
     "execution_count": 40,
     "metadata": {},
     "output_type": "execute_result"
    }
   ],
   "source": [
    "my_dict3 = {'country_code': ['+32', '+44', '+11'], 'phone':['(874)-444-0000', '(575)-755-1000', '(990)-006-0660'], 'grade':['B', 'B+', 'A'], 'n_credits': [12, 3, 9]}\n",
    "df3 = pd.DataFrame(my_dict3)\n",
    "df3"
   ]
  },
  {
   "cell_type": "markdown",
   "metadata": {},
   "source": [
    "The next cell merges both DataFrames and applies the change to DataFrame df2. Feel free to consult the definition of the Pandas merge() method to better undertsand how merge() works."
   ]
  },
  {
   "cell_type": "code",
   "execution_count": 41,
   "metadata": {},
   "outputs": [
    {
     "data": {
      "text/html": [
       "<div>\n",
       "<style scoped>\n",
       "    .dataframe tbody tr th:only-of-type {\n",
       "        vertical-align: middle;\n",
       "    }\n",
       "\n",
       "    .dataframe tbody tr th {\n",
       "        vertical-align: top;\n",
       "    }\n",
       "\n",
       "    .dataframe thead th {\n",
       "        text-align: right;\n",
       "    }\n",
       "</style>\n",
       "<table border=\"1\" class=\"dataframe\">\n",
       "  <thead>\n",
       "    <tr style=\"text-align: right;\">\n",
       "      <th></th>\n",
       "      <th>country_code_x</th>\n",
       "      <th>grade_x</th>\n",
       "      <th>phone</th>\n",
       "      <th>country_code_y</th>\n",
       "      <th>grade_y</th>\n",
       "      <th>n_credits</th>\n",
       "    </tr>\n",
       "  </thead>\n",
       "  <tbody>\n",
       "    <tr>\n",
       "      <th>0</th>\n",
       "      <td>+32</td>\n",
       "      <td>B</td>\n",
       "      <td>(874)-444-0000</td>\n",
       "      <td>+32</td>\n",
       "      <td>B</td>\n",
       "      <td>12</td>\n",
       "    </tr>\n",
       "    <tr>\n",
       "      <th>1</th>\n",
       "      <td>+11</td>\n",
       "      <td>A</td>\n",
       "      <td>(990)-006-0660</td>\n",
       "      <td>+11</td>\n",
       "      <td>A</td>\n",
       "      <td>9</td>\n",
       "    </tr>\n",
       "  </tbody>\n",
       "</table>\n",
       "</div>"
      ],
      "text/plain": [
       "  country_code_x grade_x           phone country_code_y grade_y  n_credits\n",
       "0            +32       B  (874)-444-0000            +32       B         12\n",
       "1            +11       A  (990)-006-0660            +11       A          9"
      ]
     },
     "execution_count": 41,
     "metadata": {},
     "output_type": "execute_result"
    }
   ],
   "source": [
    "df2 = df2.merge(df3, on = 'phone')\n",
    "df2"
   ]
  },
  {
   "cell_type": "markdown",
   "metadata": {},
   "source": [
    "e. Loading a dataset: pd.read_csv()"
   ]
  },
  {
   "cell_type": "markdown",
   "metadata": {},
   "source": [
    "We are now well equipped to deal with a real dataset!\n",
    "\n",
    "For the next few exercises, our dataset will contain information about New York City listings on the Airbnb platform. Note: the cell below may generate a warning. Ignore the warning."
   ]
  },
  {
   "cell_type": "code",
   "execution_count": 45,
   "metadata": {},
   "outputs": [],
   "source": [
    "import os \n",
    "filename = os.path.join(os.getcwd(), \"listings.csv\") # path to file and file name\n",
    "data = pd.read_csv(filename)"
   ]
  },
  {
   "cell_type": "code",
   "execution_count": 46,
   "metadata": {},
   "outputs": [
    {
     "data": {
      "text/plain": [
       "(39627, 18)"
      ]
     },
     "execution_count": 46,
     "metadata": {},
     "output_type": "execute_result"
    }
   ],
   "source": [
    "data.shape #dataframe of 38277 rows, 63 columns"
   ]
  },
  {
   "cell_type": "markdown",
   "metadata": {},
   "source": [
    "First, get a peek at the data:"
   ]
  },
  {
   "cell_type": "code",
   "execution_count": 47,
   "metadata": {},
   "outputs": [
    {
     "data": {
      "text/html": [
       "<div>\n",
       "<style scoped>\n",
       "    .dataframe tbody tr th:only-of-type {\n",
       "        vertical-align: middle;\n",
       "    }\n",
       "\n",
       "    .dataframe tbody tr th {\n",
       "        vertical-align: top;\n",
       "    }\n",
       "\n",
       "    .dataframe thead th {\n",
       "        text-align: right;\n",
       "    }\n",
       "</style>\n",
       "<table border=\"1\" class=\"dataframe\">\n",
       "  <thead>\n",
       "    <tr style=\"text-align: right;\">\n",
       "      <th></th>\n",
       "      <th>id</th>\n",
       "      <th>name</th>\n",
       "      <th>host_id</th>\n",
       "      <th>host_name</th>\n",
       "      <th>neighbourhood_group</th>\n",
       "      <th>neighbourhood</th>\n",
       "      <th>latitude</th>\n",
       "      <th>longitude</th>\n",
       "      <th>room_type</th>\n",
       "      <th>price</th>\n",
       "      <th>minimum_nights</th>\n",
       "      <th>number_of_reviews</th>\n",
       "      <th>last_review</th>\n",
       "      <th>reviews_per_month</th>\n",
       "      <th>calculated_host_listings_count</th>\n",
       "      <th>availability_365</th>\n",
       "      <th>number_of_reviews_ltm</th>\n",
       "      <th>license</th>\n",
       "    </tr>\n",
       "  </thead>\n",
       "  <tbody>\n",
       "    <tr>\n",
       "      <th>0</th>\n",
       "      <td>2595</td>\n",
       "      <td>Rental unit in New York · ★4.68 · Studio · 1 b...</td>\n",
       "      <td>2845</td>\n",
       "      <td>Jennifer</td>\n",
       "      <td>Manhattan</td>\n",
       "      <td>Midtown</td>\n",
       "      <td>40.75356</td>\n",
       "      <td>-73.98559</td>\n",
       "      <td>Entire home/apt</td>\n",
       "      <td>240</td>\n",
       "      <td>30</td>\n",
       "      <td>49</td>\n",
       "      <td>2022-06-21</td>\n",
       "      <td>0.29</td>\n",
       "      <td>3</td>\n",
       "      <td>339</td>\n",
       "      <td>0</td>\n",
       "      <td>NaN</td>\n",
       "    </tr>\n",
       "    <tr>\n",
       "      <th>1</th>\n",
       "      <td>5121</td>\n",
       "      <td>Rental unit in Brooklyn · ★4.52 · 1 bedroom · ...</td>\n",
       "      <td>7356</td>\n",
       "      <td>Garon</td>\n",
       "      <td>Brooklyn</td>\n",
       "      <td>Bedford-Stuyvesant</td>\n",
       "      <td>40.68535</td>\n",
       "      <td>-73.95512</td>\n",
       "      <td>Private room</td>\n",
       "      <td>66</td>\n",
       "      <td>30</td>\n",
       "      <td>50</td>\n",
       "      <td>2019-12-02</td>\n",
       "      <td>0.28</td>\n",
       "      <td>2</td>\n",
       "      <td>88</td>\n",
       "      <td>0</td>\n",
       "      <td>NaN</td>\n",
       "    </tr>\n",
       "    <tr>\n",
       "      <th>2</th>\n",
       "      <td>6848</td>\n",
       "      <td>Rental unit in Brooklyn · ★4.58 · 2 bedrooms ·...</td>\n",
       "      <td>15991</td>\n",
       "      <td>Allen &amp; Irina</td>\n",
       "      <td>Brooklyn</td>\n",
       "      <td>Williamsburg</td>\n",
       "      <td>40.70935</td>\n",
       "      <td>-73.95342</td>\n",
       "      <td>Entire home/apt</td>\n",
       "      <td>81</td>\n",
       "      <td>30</td>\n",
       "      <td>191</td>\n",
       "      <td>2023-08-14</td>\n",
       "      <td>1.08</td>\n",
       "      <td>1</td>\n",
       "      <td>142</td>\n",
       "      <td>4</td>\n",
       "      <td>NaN</td>\n",
       "    </tr>\n",
       "    <tr>\n",
       "      <th>3</th>\n",
       "      <td>6872</td>\n",
       "      <td>Condo in New York · 1 bedroom · 1 bed · 1 shar...</td>\n",
       "      <td>16104</td>\n",
       "      <td>Kae</td>\n",
       "      <td>Manhattan</td>\n",
       "      <td>East Harlem</td>\n",
       "      <td>40.80107</td>\n",
       "      <td>-73.94255</td>\n",
       "      <td>Private room</td>\n",
       "      <td>65</td>\n",
       "      <td>30</td>\n",
       "      <td>1</td>\n",
       "      <td>2022-06-05</td>\n",
       "      <td>0.05</td>\n",
       "      <td>2</td>\n",
       "      <td>359</td>\n",
       "      <td>0</td>\n",
       "      <td>NaN</td>\n",
       "    </tr>\n",
       "    <tr>\n",
       "      <th>4</th>\n",
       "      <td>6990</td>\n",
       "      <td>Rental unit in New York · ★4.88 · 1 bedroom · ...</td>\n",
       "      <td>16800</td>\n",
       "      <td>Cyn</td>\n",
       "      <td>Manhattan</td>\n",
       "      <td>East Harlem</td>\n",
       "      <td>40.78778</td>\n",
       "      <td>-73.94759</td>\n",
       "      <td>Private room</td>\n",
       "      <td>70</td>\n",
       "      <td>30</td>\n",
       "      <td>246</td>\n",
       "      <td>2023-08-14</td>\n",
       "      <td>1.43</td>\n",
       "      <td>1</td>\n",
       "      <td>93</td>\n",
       "      <td>4</td>\n",
       "      <td>NaN</td>\n",
       "    </tr>\n",
       "  </tbody>\n",
       "</table>\n",
       "</div>"
      ],
      "text/plain": [
       "     id                                               name  host_id  \\\n",
       "0  2595  Rental unit in New York · ★4.68 · Studio · 1 b...     2845   \n",
       "1  5121  Rental unit in Brooklyn · ★4.52 · 1 bedroom · ...     7356   \n",
       "2  6848  Rental unit in Brooklyn · ★4.58 · 2 bedrooms ·...    15991   \n",
       "3  6872  Condo in New York · 1 bedroom · 1 bed · 1 shar...    16104   \n",
       "4  6990  Rental unit in New York · ★4.88 · 1 bedroom · ...    16800   \n",
       "\n",
       "       host_name neighbourhood_group       neighbourhood  latitude  longitude  \\\n",
       "0       Jennifer           Manhattan             Midtown  40.75356  -73.98559   \n",
       "1          Garon            Brooklyn  Bedford-Stuyvesant  40.68535  -73.95512   \n",
       "2  Allen & Irina            Brooklyn        Williamsburg  40.70935  -73.95342   \n",
       "3            Kae           Manhattan         East Harlem  40.80107  -73.94255   \n",
       "4            Cyn           Manhattan         East Harlem  40.78778  -73.94759   \n",
       "\n",
       "         room_type  price  minimum_nights  number_of_reviews last_review  \\\n",
       "0  Entire home/apt    240              30                 49  2022-06-21   \n",
       "1     Private room     66              30                 50  2019-12-02   \n",
       "2  Entire home/apt     81              30                191  2023-08-14   \n",
       "3     Private room     65              30                  1  2022-06-05   \n",
       "4     Private room     70              30                246  2023-08-14   \n",
       "\n",
       "   reviews_per_month  calculated_host_listings_count  availability_365  \\\n",
       "0               0.29                               3               339   \n",
       "1               0.28                               2                88   \n",
       "2               1.08                               1               142   \n",
       "3               0.05                               2               359   \n",
       "4               1.43                               1                93   \n",
       "\n",
       "   number_of_reviews_ltm license  \n",
       "0                      0     NaN  \n",
       "1                      0     NaN  \n",
       "2                      4     NaN  \n",
       "3                      0     NaN  \n",
       "4                      4     NaN  "
      ]
     },
     "execution_count": 47,
     "metadata": {},
     "output_type": "execute_result"
    }
   ],
   "source": [
    "data.head()"
   ]
  },
  {
   "cell_type": "markdown",
   "metadata": {},
   "source": [
    "That's a lot of columns, and the layout is a little difficult to read.\n",
    "Let us retrieve just the list of column names, so we can read it and get a feeling for what kind of information is presented in the dataset."
   ]
  },
  {
   "cell_type": "markdown",
   "metadata": {},
   "source": [
    "f. Get column names: df.columns"
   ]
  },
  {
   "cell_type": "code",
   "execution_count": 48,
   "metadata": {},
   "outputs": [
    {
     "data": {
      "text/plain": [
       "['id',\n",
       " 'name',\n",
       " 'host_id',\n",
       " 'host_name',\n",
       " 'neighbourhood_group',\n",
       " 'neighbourhood',\n",
       " 'latitude',\n",
       " 'longitude',\n",
       " 'room_type',\n",
       " 'price',\n",
       " 'minimum_nights',\n",
       " 'number_of_reviews',\n",
       " 'last_review',\n",
       " 'reviews_per_month',\n",
       " 'calculated_host_listings_count',\n",
       " 'availability_365',\n",
       " 'number_of_reviews_ltm',\n",
       " 'license']"
      ]
     },
     "execution_count": 48,
     "metadata": {},
     "output_type": "execute_result"
    }
   ],
   "source": [
    "list(data.columns)"
   ]
  },
  {
   "cell_type": "markdown",
   "metadata": {},
   "source": [
    "What do the column names mean? Some of them are less intuitively interpretable than others.\n",
    "Careful data documentation is indispensable for business analytics. You can consult the documentation that accompanies this open source dataset for a detailed description of the key variable names, what they represent, and how they were generated.\n"
   ]
  },
  {
   "cell_type": "markdown",
   "metadata": {},
   "source": [
    "g. Summary statistics of the DataFrame: df.describe()"
   ]
  },
  {
   "cell_type": "markdown",
   "metadata": {},
   "source": [
    "Let's print some general statistics for each one of the data columns:"
   ]
  },
  {
   "cell_type": "code",
   "execution_count": 50,
   "metadata": {},
   "outputs": [
    {
     "data": {
      "text/html": [
       "<div>\n",
       "<style scoped>\n",
       "    .dataframe tbody tr th:only-of-type {\n",
       "        vertical-align: middle;\n",
       "    }\n",
       "\n",
       "    .dataframe tbody tr th {\n",
       "        vertical-align: top;\n",
       "    }\n",
       "\n",
       "    .dataframe thead th {\n",
       "        text-align: right;\n",
       "    }\n",
       "</style>\n",
       "<table border=\"1\" class=\"dataframe\">\n",
       "  <thead>\n",
       "    <tr style=\"text-align: right;\">\n",
       "      <th></th>\n",
       "      <th>id</th>\n",
       "      <th>name</th>\n",
       "      <th>host_id</th>\n",
       "      <th>host_name</th>\n",
       "      <th>neighbourhood_group</th>\n",
       "      <th>neighbourhood</th>\n",
       "      <th>latitude</th>\n",
       "      <th>longitude</th>\n",
       "      <th>room_type</th>\n",
       "      <th>price</th>\n",
       "      <th>minimum_nights</th>\n",
       "      <th>number_of_reviews</th>\n",
       "      <th>last_review</th>\n",
       "      <th>reviews_per_month</th>\n",
       "      <th>calculated_host_listings_count</th>\n",
       "      <th>availability_365</th>\n",
       "      <th>number_of_reviews_ltm</th>\n",
       "      <th>license</th>\n",
       "    </tr>\n",
       "  </thead>\n",
       "  <tbody>\n",
       "    <tr>\n",
       "      <th>count</th>\n",
       "      <td>3.962700e+04</td>\n",
       "      <td>39627</td>\n",
       "      <td>3.962700e+04</td>\n",
       "      <td>39612</td>\n",
       "      <td>39627</td>\n",
       "      <td>39627</td>\n",
       "      <td>39627.000000</td>\n",
       "      <td>39627.000000</td>\n",
       "      <td>39627</td>\n",
       "      <td>39627.000000</td>\n",
       "      <td>39627.000000</td>\n",
       "      <td>39627.000000</td>\n",
       "      <td>28147</td>\n",
       "      <td>28147.000000</td>\n",
       "      <td>39627.000000</td>\n",
       "      <td>39627.000000</td>\n",
       "      <td>39627.000000</td>\n",
       "      <td>4359</td>\n",
       "    </tr>\n",
       "    <tr>\n",
       "      <th>unique</th>\n",
       "      <td>NaN</td>\n",
       "      <td>12100</td>\n",
       "      <td>NaN</td>\n",
       "      <td>8861</td>\n",
       "      <td>5</td>\n",
       "      <td>224</td>\n",
       "      <td>NaN</td>\n",
       "      <td>NaN</td>\n",
       "      <td>4</td>\n",
       "      <td>NaN</td>\n",
       "      <td>NaN</td>\n",
       "      <td>NaN</td>\n",
       "      <td>2909</td>\n",
       "      <td>NaN</td>\n",
       "      <td>NaN</td>\n",
       "      <td>NaN</td>\n",
       "      <td>NaN</td>\n",
       "      <td>700</td>\n",
       "    </tr>\n",
       "    <tr>\n",
       "      <th>top</th>\n",
       "      <td>NaN</td>\n",
       "      <td>Rental unit in New York · 1 bedroom · 1 bed · ...</td>\n",
       "      <td>NaN</td>\n",
       "      <td>Blueground</td>\n",
       "      <td>Manhattan</td>\n",
       "      <td>Bedford-Stuyvesant</td>\n",
       "      <td>NaN</td>\n",
       "      <td>NaN</td>\n",
       "      <td>Entire home/apt</td>\n",
       "      <td>NaN</td>\n",
       "      <td>NaN</td>\n",
       "      <td>NaN</td>\n",
       "      <td>2023-09-04</td>\n",
       "      <td>NaN</td>\n",
       "      <td>NaN</td>\n",
       "      <td>NaN</td>\n",
       "      <td>NaN</td>\n",
       "      <td>Exempt</td>\n",
       "    </tr>\n",
       "    <tr>\n",
       "      <th>freq</th>\n",
       "      <td>NaN</td>\n",
       "      <td>2082</td>\n",
       "      <td>NaN</td>\n",
       "      <td>691</td>\n",
       "      <td>17367</td>\n",
       "      <td>2772</td>\n",
       "      <td>NaN</td>\n",
       "      <td>NaN</td>\n",
       "      <td>21246</td>\n",
       "      <td>NaN</td>\n",
       "      <td>NaN</td>\n",
       "      <td>NaN</td>\n",
       "      <td>384</td>\n",
       "      <td>NaN</td>\n",
       "      <td>NaN</td>\n",
       "      <td>NaN</td>\n",
       "      <td>NaN</td>\n",
       "      <td>3408</td>\n",
       "    </tr>\n",
       "    <tr>\n",
       "      <th>mean</th>\n",
       "      <td>3.083450e+17</td>\n",
       "      <td>NaN</td>\n",
       "      <td>1.602573e+08</td>\n",
       "      <td>NaN</td>\n",
       "      <td>NaN</td>\n",
       "      <td>NaN</td>\n",
       "      <td>40.729360</td>\n",
       "      <td>-73.946072</td>\n",
       "      <td>NaN</td>\n",
       "      <td>208.816464</td>\n",
       "      <td>30.051127</td>\n",
       "      <td>25.251520</td>\n",
       "      <td>NaN</td>\n",
       "      <td>1.021708</td>\n",
       "      <td>41.852197</td>\n",
       "      <td>153.721276</td>\n",
       "      <td>6.264088</td>\n",
       "      <td>NaN</td>\n",
       "    </tr>\n",
       "    <tr>\n",
       "      <th>std</th>\n",
       "      <td>4.050888e+17</td>\n",
       "      <td>NaN</td>\n",
       "      <td>1.717839e+08</td>\n",
       "      <td>NaN</td>\n",
       "      <td>NaN</td>\n",
       "      <td>NaN</td>\n",
       "      <td>0.056425</td>\n",
       "      <td>0.054788</td>\n",
       "      <td>NaN</td>\n",
       "      <td>482.380712</td>\n",
       "      <td>29.290027</td>\n",
       "      <td>57.718207</td>\n",
       "      <td>NaN</td>\n",
       "      <td>1.716199</td>\n",
       "      <td>124.056880</td>\n",
       "      <td>147.391076</td>\n",
       "      <td>16.602446</td>\n",
       "      <td>NaN</td>\n",
       "    </tr>\n",
       "    <tr>\n",
       "      <th>min</th>\n",
       "      <td>2.595000e+03</td>\n",
       "      <td>NaN</td>\n",
       "      <td>1.678000e+03</td>\n",
       "      <td>NaN</td>\n",
       "      <td>NaN</td>\n",
       "      <td>NaN</td>\n",
       "      <td>40.500314</td>\n",
       "      <td>-74.251907</td>\n",
       "      <td>NaN</td>\n",
       "      <td>8.000000</td>\n",
       "      <td>1.000000</td>\n",
       "      <td>0.000000</td>\n",
       "      <td>NaN</td>\n",
       "      <td>0.010000</td>\n",
       "      <td>1.000000</td>\n",
       "      <td>0.000000</td>\n",
       "      <td>0.000000</td>\n",
       "      <td>NaN</td>\n",
       "    </tr>\n",
       "    <tr>\n",
       "      <th>25%</th>\n",
       "      <td>2.023932e+07</td>\n",
       "      <td>NaN</td>\n",
       "      <td>1.692691e+07</td>\n",
       "      <td>NaN</td>\n",
       "      <td>NaN</td>\n",
       "      <td>NaN</td>\n",
       "      <td>40.688980</td>\n",
       "      <td>-73.982785</td>\n",
       "      <td>NaN</td>\n",
       "      <td>75.000000</td>\n",
       "      <td>30.000000</td>\n",
       "      <td>0.000000</td>\n",
       "      <td>NaN</td>\n",
       "      <td>0.110000</td>\n",
       "      <td>1.000000</td>\n",
       "      <td>0.000000</td>\n",
       "      <td>0.000000</td>\n",
       "      <td>NaN</td>\n",
       "    </tr>\n",
       "    <tr>\n",
       "      <th>50%</th>\n",
       "      <td>4.650264e+07</td>\n",
       "      <td>NaN</td>\n",
       "      <td>8.066903e+07</td>\n",
       "      <td>NaN</td>\n",
       "      <td>NaN</td>\n",
       "      <td>NaN</td>\n",
       "      <td>40.726520</td>\n",
       "      <td>-73.954090</td>\n",
       "      <td>NaN</td>\n",
       "      <td>127.000000</td>\n",
       "      <td>30.000000</td>\n",
       "      <td>4.000000</td>\n",
       "      <td>NaN</td>\n",
       "      <td>0.390000</td>\n",
       "      <td>1.000000</td>\n",
       "      <td>122.000000</td>\n",
       "      <td>0.000000</td>\n",
       "      <td>NaN</td>\n",
       "    </tr>\n",
       "    <tr>\n",
       "      <th>75%</th>\n",
       "      <td>7.564324e+17</td>\n",
       "      <td>NaN</td>\n",
       "      <td>2.857275e+08</td>\n",
       "      <td>NaN</td>\n",
       "      <td>NaN</td>\n",
       "      <td>NaN</td>\n",
       "      <td>40.762667</td>\n",
       "      <td>-73.926560</td>\n",
       "      <td>NaN</td>\n",
       "      <td>214.000000</td>\n",
       "      <td>30.000000</td>\n",
       "      <td>22.000000</td>\n",
       "      <td>NaN</td>\n",
       "      <td>1.415000</td>\n",
       "      <td>6.000000</td>\n",
       "      <td>319.000000</td>\n",
       "      <td>4.000000</td>\n",
       "      <td>NaN</td>\n",
       "    </tr>\n",
       "    <tr>\n",
       "      <th>max</th>\n",
       "      <td>1.037983e+18</td>\n",
       "      <td>NaN</td>\n",
       "      <td>5.491316e+08</td>\n",
       "      <td>NaN</td>\n",
       "      <td>NaN</td>\n",
       "      <td>NaN</td>\n",
       "      <td>40.911380</td>\n",
       "      <td>-73.713650</td>\n",
       "      <td>NaN</td>\n",
       "      <td>30000.000000</td>\n",
       "      <td>1250.000000</td>\n",
       "      <td>1857.000000</td>\n",
       "      <td>NaN</td>\n",
       "      <td>71.160000</td>\n",
       "      <td>691.000000</td>\n",
       "      <td>365.000000</td>\n",
       "      <td>983.000000</td>\n",
       "      <td>NaN</td>\n",
       "    </tr>\n",
       "  </tbody>\n",
       "</table>\n",
       "</div>"
      ],
      "text/plain": [
       "                  id                                               name  \\\n",
       "count   3.962700e+04                                              39627   \n",
       "unique           NaN                                              12100   \n",
       "top              NaN  Rental unit in New York · 1 bedroom · 1 bed · ...   \n",
       "freq             NaN                                               2082   \n",
       "mean    3.083450e+17                                                NaN   \n",
       "std     4.050888e+17                                                NaN   \n",
       "min     2.595000e+03                                                NaN   \n",
       "25%     2.023932e+07                                                NaN   \n",
       "50%     4.650264e+07                                                NaN   \n",
       "75%     7.564324e+17                                                NaN   \n",
       "max     1.037983e+18                                                NaN   \n",
       "\n",
       "             host_id   host_name neighbourhood_group       neighbourhood  \\\n",
       "count   3.962700e+04       39612               39627               39627   \n",
       "unique           NaN        8861                   5                 224   \n",
       "top              NaN  Blueground           Manhattan  Bedford-Stuyvesant   \n",
       "freq             NaN         691               17367                2772   \n",
       "mean    1.602573e+08         NaN                 NaN                 NaN   \n",
       "std     1.717839e+08         NaN                 NaN                 NaN   \n",
       "min     1.678000e+03         NaN                 NaN                 NaN   \n",
       "25%     1.692691e+07         NaN                 NaN                 NaN   \n",
       "50%     8.066903e+07         NaN                 NaN                 NaN   \n",
       "75%     2.857275e+08         NaN                 NaN                 NaN   \n",
       "max     5.491316e+08         NaN                 NaN                 NaN   \n",
       "\n",
       "            latitude     longitude        room_type         price  \\\n",
       "count   39627.000000  39627.000000            39627  39627.000000   \n",
       "unique           NaN           NaN                4           NaN   \n",
       "top              NaN           NaN  Entire home/apt           NaN   \n",
       "freq             NaN           NaN            21246           NaN   \n",
       "mean       40.729360    -73.946072              NaN    208.816464   \n",
       "std         0.056425      0.054788              NaN    482.380712   \n",
       "min        40.500314    -74.251907              NaN      8.000000   \n",
       "25%        40.688980    -73.982785              NaN     75.000000   \n",
       "50%        40.726520    -73.954090              NaN    127.000000   \n",
       "75%        40.762667    -73.926560              NaN    214.000000   \n",
       "max        40.911380    -73.713650              NaN  30000.000000   \n",
       "\n",
       "        minimum_nights  number_of_reviews last_review  reviews_per_month  \\\n",
       "count     39627.000000       39627.000000       28147       28147.000000   \n",
       "unique             NaN                NaN        2909                NaN   \n",
       "top                NaN                NaN  2023-09-04                NaN   \n",
       "freq               NaN                NaN         384                NaN   \n",
       "mean         30.051127          25.251520         NaN           1.021708   \n",
       "std          29.290027          57.718207         NaN           1.716199   \n",
       "min           1.000000           0.000000         NaN           0.010000   \n",
       "25%          30.000000           0.000000         NaN           0.110000   \n",
       "50%          30.000000           4.000000         NaN           0.390000   \n",
       "75%          30.000000          22.000000         NaN           1.415000   \n",
       "max        1250.000000        1857.000000         NaN          71.160000   \n",
       "\n",
       "        calculated_host_listings_count  availability_365  \\\n",
       "count                     39627.000000      39627.000000   \n",
       "unique                             NaN               NaN   \n",
       "top                                NaN               NaN   \n",
       "freq                               NaN               NaN   \n",
       "mean                         41.852197        153.721276   \n",
       "std                         124.056880        147.391076   \n",
       "min                           1.000000          0.000000   \n",
       "25%                           1.000000          0.000000   \n",
       "50%                           1.000000        122.000000   \n",
       "75%                           6.000000        319.000000   \n",
       "max                         691.000000        365.000000   \n",
       "\n",
       "        number_of_reviews_ltm license  \n",
       "count            39627.000000    4359  \n",
       "unique                    NaN     700  \n",
       "top                       NaN  Exempt  \n",
       "freq                      NaN    3408  \n",
       "mean                 6.264088     NaN  \n",
       "std                 16.602446     NaN  \n",
       "min                  0.000000     NaN  \n",
       "25%                  0.000000     NaN  \n",
       "50%                  0.000000     NaN  \n",
       "75%                  4.000000     NaN  \n",
       "max                983.000000     NaN  "
      ]
     },
     "execution_count": 50,
     "metadata": {},
     "output_type": "execute_result"
    }
   ],
   "source": [
    "data.describe(include='all') \n",
    "#outputs key statistical metrics such as mean, stf, min, max, Q1,Q2,Q3, frequency etc"
   ]
  },
  {
   "cell_type": "markdown",
   "metadata": {},
   "source": [
    "Consider the following business question:\n",
    "What is the average availability (out of 365 days in a year) for the listings in Brooklyn?\n",
    "The answer can be obtained by the use of filters on the dataset."
   ]
  },
  {
   "cell_type": "markdown",
   "metadata": {},
   "source": [
    "h. Filtering the data: df[ < condition > ]"
   ]
  },
  {
   "cell_type": "markdown",
   "metadata": {},
   "source": [
    "We need to filter the entries that are in Brooklyn. To do this, we need to know what is the exact way that Manhattan listings are spelled and entered in the data. Let's print all of the unique values of the 'neighborhood' column:"
   ]
  },
  {
   "cell_type": "code",
   "execution_count": 51,
   "metadata": {},
   "outputs": [
    {
     "data": {
      "text/plain": [
       "array(['Midtown', 'Bedford-Stuyvesant', 'Williamsburg', 'East Harlem',\n",
       "       'Fort Greene', \"Hell's Kitchen\", 'East Village',\n",
       "       'Long Island City', 'Flatbush', 'Greenpoint', 'Lower East Side',\n",
       "       'Clinton Hill', 'Chelsea', 'Woodside', 'Upper East Side',\n",
       "       'Kips Bay', 'Harlem', 'Carroll Gardens', 'West Village',\n",
       "       'Park Slope', 'South Slope', 'East Flatbush', 'Upper West Side',\n",
       "       'Boerum Hill', 'Prospect Heights', 'Sunnyside', 'St. George',\n",
       "       'Mott Haven', 'Ridgewood', 'Morningside Heights', 'Middle Village',\n",
       "       'Ditmars Steinway', 'Jamaica', 'Brooklyn Heights', 'Chinatown',\n",
       "       'Greenwich Village', 'Tribeca', 'Clason Point', 'Eastchester',\n",
       "       'Crown Heights', 'Nolita', 'Gowanus', 'Astoria', 'Kingsbridge',\n",
       "       'Bushwick', 'Downtown Brooklyn', 'Jackson Heights',\n",
       "       'Sheepshead Bay', 'Rockaway Beach', 'Emerson Hill', 'Bensonhurst',\n",
       "       'Murray Hill', 'Shore Acres', 'Prospect-Lefferts Gardens',\n",
       "       'Gramercy', 'Washington Heights', 'Windsor Terrace',\n",
       "       'University Heights', 'Gravesend', 'Allerton', 'Theater District',\n",
       "       'Rego Park', 'Kensington', 'Sunset Park', 'Maspeth',\n",
       "       'Little Italy', 'Spuyten Duyvil', 'SoHo', 'Briarwood', 'Elmhurst',\n",
       "       'Brighton Beach', 'Bayside', 'Co-op City', 'East New York',\n",
       "       'Inwood', 'Battery Park City', 'Two Bridges', 'Fort Hamilton',\n",
       "       'Cobble Hill', 'New Springville', 'Tottenville', 'Tompkinsville',\n",
       "       'Red Hook', 'East Elmhurst', 'Columbia St', 'Concord', 'Melrose',\n",
       "       'NoHo', 'Flushing', 'College Point', 'Bay Ridge', 'Norwood',\n",
       "       'Concourse', 'Vinegar Hill', 'DUMBO', 'City Island', 'Canarsie',\n",
       "       'Port Morris', 'Arverne', 'Richmond Hill', 'Queens Village',\n",
       "       'Glendale', 'Longwood', 'Financial District', 'Williamsbridge',\n",
       "       'Soundview', 'Parkchester', 'Bronxdale', 'Forest Hills',\n",
       "       'Sea Gate', 'Bay Terrace', 'Ozone Park', 'Flatlands',\n",
       "       'Claremont Village', 'Fordham', 'Woodhaven', 'Clifton',\n",
       "       'Borough Park', 'Huguenot', 'Mount Hope', 'Wakefield', 'Midwood',\n",
       "       'Concourse Village', 'Civic Center', 'Brownsville', 'Fieldston',\n",
       "       'Roosevelt Island', 'Lighthouse Hill', 'Unionport',\n",
       "       'Stuyvesant Town', 'Kew Gardens', 'Bellerose', 'Flatiron District',\n",
       "       'Morris Park', 'Pelham Gardens', 'Mariners Harbor',\n",
       "       'South Ozone Park', 'East Morrisania', 'Tremont', 'Cypress Hills',\n",
       "       'Jamaica Estates', 'West Brighton', 'Manhattan Beach',\n",
       "       'Marble Hill', 'Springfield Gardens', 'Dongan Hills', 'Hollis',\n",
       "       'Belmont', 'Castleton Corners', 'Laurelton', 'Howard Beach',\n",
       "       'Hunts Point', 'Randall Manor', 'Fresh Meadows', 'Pelham Bay',\n",
       "       'Silver Lake', 'Riverdale', 'Great Kills', 'Morrisania',\n",
       "       'Holliswood', 'Grymes Hill', 'Corona', 'Edgemere', 'New Brighton',\n",
       "       'Baychester', 'Stapleton', 'Richmondtown', 'Olinville',\n",
       "       'Dyker Heights', 'Kew Gardens Hills', 'Navy Yard', 'Coney Island',\n",
       "       'St. Albans', 'Rosedale', 'Morris Heights', 'Highbridge',\n",
       "       'Howland Hook', 'South Beach', 'Bath Beach', 'Cambria Heights',\n",
       "       'Oakwood', 'Arrochar', 'Whitestone', 'Edenwald', 'Mount Eden',\n",
       "       'Fort Wadsworth', 'Rosebank', 'Westchester Square', 'New Dorp',\n",
       "       'Far Rockaway', 'Port Richmond', 'Neponsit', 'North Riverdale',\n",
       "       'Throgs Neck', 'Country Club', 'Bayswater', 'Willowbrook',\n",
       "       'Douglaston', 'New Dorp Beach', 'Bergen Beach', 'Schuylerville',\n",
       "       'Midland Beach', 'West Farms', 'Arden Heights', 'Grant City',\n",
       "       'Jamaica Hills', \"Prince's Bay\", 'Little Neck', \"Bull's Head\",\n",
       "       'Woodlawn', 'Gerritsen Beach', 'Westerleigh', 'Belle Harbor',\n",
       "       'Breezy Point', 'Graniteville', 'Chelsea, Staten Island',\n",
       "       'Mill Basin', 'Woodrow', 'Van Nest', 'Castle Hill', 'Eltingville',\n",
       "       'Todt Hill', 'Rossville', 'Bay Terrace, Staten Island'],\n",
       "      dtype=object)"
      ]
     },
     "execution_count": 51,
     "metadata": {},
     "output_type": "execute_result"
    }
   ],
   "source": [
    "data['neighbourhood'].unique()"
   ]
  },
  {
   "cell_type": "markdown",
   "metadata": {},
   "source": [
    "You may have noticed that there is a lot of heterogeneity in the way neighborhood values are specified. The values are not standardized. There are overlaps, redundancies, and inconsistencies (e.g., some entries specify 'Greenpoint, Brooklyn, New York, United States', some other ones list 'BROOKLYN, New York, United States',, yet other ones say 'Williamsburg, Brooklyn, New York, United States', etc. In real life, you would have to clean this data and replace these values with standard, identically formated, consistent values.\n",
    "\n",
    "For this data file, however, we are lucky to already have a 'cleansed' version of the neighborhood information based on the latitude and the longitude of every listing location.\n",
    "\n",
    "We will list the unique values of the columns titled neighbourhood_cleansed and neighbourhood_group_cleansed:"
   ]
  },
  {
   "cell_type": "code",
   "execution_count": 71,
   "metadata": {},
   "outputs": [],
   "source": [
    "import pandas as pd\n",
    "\n",
    "data = pd.read_csv('listings.csv')  # Replace 'your_file.csv' with your actual file path\n",
    "bk = data['neighbourhood_group'].unique()"
   ]
  },
  {
   "cell_type": "markdown",
   "metadata": {},
   "source": [
    "Great, this last one is what we want! Let's filter out all data entries that pertain to Brooklyn listings:"
   ]
  },
  {
   "cell_type": "code",
   "execution_count": 72,
   "metadata": {},
   "outputs": [
    {
     "data": {
      "text/plain": [
       "array(['Manhattan', 'Brooklyn', 'Queens', 'Staten Island', 'Bronx'],\n",
       "      dtype=object)"
      ]
     },
     "execution_count": 72,
     "metadata": {},
     "output_type": "execute_result"
    }
   ],
   "source": [
    "bk"
   ]
  },
  {
   "cell_type": "code",
   "execution_count": 70,
   "metadata": {},
   "outputs": [
    {
     "name": "stdout",
     "output_type": "stream",
     "text": [
      "(39627, 18)\n"
     ]
    }
   ],
   "source": [
    "print(data.shape)\n"
   ]
  },
  {
   "cell_type": "markdown",
   "metadata": {},
   "source": [
    "Tip: to better understand what happened above, you are encouraged to insert a new code cell below and copy just the condition of the filter that we used on the data object above: data['neighbourhood_group_cleansed'] == 'Brooklyn'. Run the new cell and see what that condition alone evaluates to. You should see a Pandas series containing True/False values. When we use that series as a Boolean filter by writing data[ < our Boolean series > ], i.e data['neighbourhood_group_cleansed'] == 'Brooklyn'] , we are telling Pandas to keep the values in the DataFrame data only with those indices for which the condition evaluated to True."
   ]
  },
  {
   "cell_type": "markdown",
   "metadata": {},
   "source": [
    "i. Combining values in a column: np.mean()"
   ]
  },
  {
   "cell_type": "markdown",
   "metadata": {},
   "source": [
    "Now that we isolated only the relevant entries, it remains to average the value of a particular column that we care about:"
   ]
  },
  {
   "cell_type": "code",
   "execution_count": 75,
   "metadata": {},
   "outputs": [
    {
     "data": {
      "text/plain": [
       "153.7212758977465"
      ]
     },
     "execution_count": 75,
     "metadata": {},
     "output_type": "execute_result"
    }
   ],
   "source": [
    "np.mean(data['availability_365'])"
   ]
  },
  {
   "cell_type": "markdown",
   "metadata": {},
   "source": [
    "j. Group data by (categorical) column values: df.groupby()\n"
   ]
  },
  {
   "cell_type": "markdown",
   "metadata": {},
   "source": [
    "The next question of interest could be:\n",
    "What are the top 5 most reviewed neighborhoods in New York? (By sheer number of reviews, regardless of their quality).\n",
    "We will use the groupby method from the Pandas package:"
   ]
  },
  {
   "cell_type": "code",
   "execution_count": 79,
   "metadata": {},
   "outputs": [
    {
     "data": {
      "text/plain": [
       "neighbourhood\n",
       "Allerton          2439\n",
       "Arden Heights       58\n",
       "Arrochar           421\n",
       "Arverne           3088\n",
       "Astoria          21512\n",
       "Name: number_of_reviews, dtype: int64"
      ]
     },
     "execution_count": 79,
     "metadata": {},
     "output_type": "execute_result"
    }
   ],
   "source": [
    "nbhd_reviews = data.groupby('neighbourhood')['number_of_reviews'].sum()\n",
    "nbhd_reviews.head()\n",
    "# nbhd_reviews"
   ]
  },
  {
   "cell_type": "code",
   "execution_count": 80,
   "metadata": {},
   "outputs": [
    {
     "data": {
      "text/plain": [
       "224"
      ]
     },
     "execution_count": 80,
     "metadata": {},
     "output_type": "execute_result"
    }
   ],
   "source": [
    "nbhd_reviews = nbhd_reviews.sort_values(ascending = False) #aka descending\n",
    "nbhd_reviews.head(5)\n",
    "nbhd_reviews.size#there are 222 neighborhoods and ~8k reviews"
   ]
  },
  {
   "cell_type": "markdown",
   "metadata": {},
   "source": [
    "Success!\n",
    "While we re at it, what are the least reviewed neighborhoods?"
   ]
  },
  {
   "cell_type": "code",
   "execution_count": 81,
   "metadata": {},
   "outputs": [
    {
     "data": {
      "text/plain": [
       "neighbourhood\n",
       "Little Neck                   3\n",
       "Bay Terrace, Staten Island    1\n",
       "Chelsea, Staten Island        1\n",
       "New Dorp                      0\n",
       "Fort Wadsworth                0\n",
       "Name: number_of_reviews, dtype: int64"
      ]
     },
     "execution_count": 81,
     "metadata": {},
     "output_type": "execute_result"
    }
   ],
   "source": [
    "nbhd_reviews.tail(5)"
   ]
  },
  {
   "cell_type": "code",
   "execution_count": 82,
   "metadata": {},
   "outputs": [
    {
     "data": {
      "text/plain": [
       "neighbourhood\n",
       "Bedford-Stuyvesant            98694\n",
       "Harlem                        59788\n",
       "Williamsburg                  53957\n",
       "Crown Heights                 36278\n",
       "Bushwick                      35055\n",
       "                              ...  \n",
       "Little Neck                       3\n",
       "Bay Terrace, Staten Island        1\n",
       "Chelsea, Staten Island            1\n",
       "New Dorp                          0\n",
       "Fort Wadsworth                    0\n",
       "Name: number_of_reviews, Length: 224, dtype: int64"
      ]
     },
     "execution_count": 82,
     "metadata": {},
     "output_type": "execute_result"
    }
   ],
   "source": [
    "nbhd_reviews"
   ]
  },
  {
   "cell_type": "markdown",
   "metadata": {},
   "source": [
    "This result makes it apparent that our dataset is somewhat messy!\n",
    "\n",
    "Notice we could have chained the transformations above into a single command, as in:"
   ]
  },
  {
   "cell_type": "code",
   "execution_count": 84,
   "metadata": {},
   "outputs": [
    {
     "data": {
      "text/plain": [
       "neighbourhood\n",
       "Bedford-Stuyvesant    98694\n",
       "Harlem                59788\n",
       "Williamsburg          53957\n",
       "Crown Heights         36278\n",
       "Bushwick              35055\n",
       "Name: number_of_reviews, dtype: int64"
      ]
     },
     "execution_count": 84,
     "metadata": {},
     "output_type": "execute_result"
    }
   ],
   "source": [
    "data.groupby('neighbourhood')['number_of_reviews'].sum().sort_values(ascending = False).head(5)"
   ]
  },
  {
   "cell_type": "markdown",
   "metadata": {},
   "source": [
    "This way we don't store objects that we won't need.\n",
    "\n",
    "Bonus: easy histogram plotting with Matplotlib: plt.hist()\n",
    "As a final touch, run the cell below to instantly visualize the density of (average!) values of review numbers across all neighbourhoods:"
   ]
  },
  {
   "cell_type": "code",
   "execution_count": 88,
   "metadata": {},
   "outputs": [
    {
     "data": {
      "text/plain": [
       "Text(0, 0.5, 'Neighborhood Count')"
      ]
     },
     "execution_count": 88,
     "metadata": {},
     "output_type": "execute_result"
    },
    {
     "data": {
      "image/png": "[encoded data removed]",
      "text/plain": [
       "<Figure size 640x480 with 1 Axes>"
      ]
     },
     "metadata": {},
     "output_type": "display_data"
    }
   ],
   "source": [
    "%matplotlib inline\n",
    "import matplotlib.pyplot as plt\n",
    "nbhd_reviews.hist()\n",
    "plt.title('Neighborhood AirBnb Reviews Density Plot')\n",
    "plt.xlabel('Number of Reviews')\n",
    "plt.ylabel('Neighborhood Count')"
   ]
  },
  {
   "cell_type": "markdown",
   "metadata": {},
   "source": [
    "This plot suggests that the vast majority of neighborhoods have only very few reviews, with just a handful of outliers (those ranked at the top in our previous computed cell) having the number of reviews upward of 40000."
   ]
  },
  {
   "cell_type": "markdown",
   "metadata": {},
   "source": []
  }
 ],
 "metadata": {
  "kernelspec": {
   "display_name": "Python 3",
   "language": "python",
   "name": "python3"
  },
  "language_info": {
   "codemirror_mode": {
    "name": "ipython",
    "version": 3
   },
   "file_extension": ".py",
   "mimetype": "text/x-python",
   "name": "python",
   "nbconvert_exporter": "python",
   "pygments_lexer": "ipython3",
   "version": "3.11.5"
  }
 },
 "nbformat": 4,
 "nbformat_minor": 2
}
